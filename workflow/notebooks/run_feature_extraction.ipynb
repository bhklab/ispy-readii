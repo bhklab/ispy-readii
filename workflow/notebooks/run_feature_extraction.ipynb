{
 "cells": [
  {
   "cell_type": "markdown",
   "metadata": {},
   "source": [
    "# Before getting started\n",
    "\n",
    "Make sure pixi is up to date by running the following command in your terminal:\n",
    "\n",
    "```bash\n",
    "pixi self-update\n",
    "```"
   ]
  },
  {
   "cell_type": "markdown",
   "metadata": {},
   "source": [
    "# Start JupyterLab\n",
    "\n",
    "To get the Jupyter kernel to work, \n",
    "\n",
    "1. Run the following commands in the terminal in the ispy-readii directory:\n",
    "    ```bash\n",
    "    pixi shell --manifest-path=./pixi.toml\n",
    "\n",
    "    pixi install\n",
    "\n",
    "    pixi run make_kernel\n",
    "    ```\n",
    "2. In the `Select Kernel` menu at the top right of the notebook, select `Jupyter Kernel` as the source. \n",
    "\n",
    "3. Refresh the options and one called `ispy-readii` should appear. Select this option."
   ]
  },
  {
   "cell_type": "markdown",
   "metadata": {},
   "source": [
    "# Imports"
   ]
  },
  {
   "cell_type": "code",
   "execution_count": 2,
   "metadata": {},
   "outputs": [],
   "source": [
    "import numpy as np\n",
    "from imgtools.io import read_dicom_series\n",
    "from imgtools.autopipeline import AutoPipeline\n",
    "import pandas as pd\n",
    "import subprocess\n",
    "\n",
    "from pathlib import Path\n",
    "from readii.loaders import loadSegmentation\n",
    "from readii.image_processing import flattenImage\n",
    "from readii.feature_extraction import singleRadiomicFeatureExtraction"
   ]
  },
  {
   "cell_type": "markdown",
   "metadata": {},
   "source": [
    "# Set Dataset Name"
   ]
  },
  {
   "cell_type": "code",
   "execution_count": 3,
   "metadata": {},
   "outputs": [],
   "source": [
    "DATASET_NAME = 'ISPY2'"
   ]
  },
  {
   "cell_type": "markdown",
   "metadata": {},
   "source": [
    "# ~~Run Med-Imagetools crawl~~\n",
    "\n",
    "~~This creates a file used by READII to associate the images with the corresponding segmentation files.~~\n",
    "\n",
    "This doesn't work for ISPY2, will be using code from `workflow/scripts/python/solid-BET-FSL.py` instead."
   ]
  },
  {
   "cell_type": "code",
   "execution_count": null,
   "metadata": {},
   "outputs": [],
   "source": [
    "# mit_input_dir = f\"../../rawdata/{DATASET_NAME}\"\n",
    "# mit_output_dir = f\"../../procdata/{DATASET_NAME}/mit_output\"\n",
    "\n",
    "# modalities = \"MR,SEG\"\n",
    "# # LEAVE THIS ONE\n",
    "# dry_run = False\n",
    "\n",
    "# # Set up and run the pipeline\n",
    "# pipeline = AutoPipeline(input_directory=mit_input_dir,\n",
    "#                         output_directory=mit_output_dir,\n",
    "#                         modalities=modalities,\n",
    "#                         dry_run=dry_run,\n",
    "#                         show_progress=False) \n",
    "\n",
    "# pipeline.run()"
   ]
  },
  {
   "cell_type": "markdown",
   "metadata": {},
   "source": [
    "# Convert MRI to NIFTI\n",
    "\n",
    "Insert code from `solid-BET-FSL.py` lines 36-52 here"
   ]
  },
  {
   "cell_type": "markdown",
   "metadata": {},
   "source": [
    "# Run Bias Correction\n",
    "\n",
    "Insert code fom `solid-BET-FSL.py` lines 81-94 here"
   ]
  },
  {
   "cell_type": "markdown",
   "metadata": {},
   "source": [
    "# File path setup\n",
    "\n",
    "This is an example with a CT scan and RTSTRUCT. Copy the below cell and replace with MRI data paths. Keep variable names the same."
   ]
  },
  {
   "cell_type": "code",
   "execution_count": 5,
   "metadata": {},
   "outputs": [],
   "source": [
    "# Path to the DIRECTORY that contains all the CT dcm files\n",
    "image_dir_path = \"../../rawdata/ISPY2/images/ISPY2-100899/10-26-2002-100899T0-ISPY2MRIT0-88595/51000.000000-ISPY2 VOLSER uni-lateral cropped SER-33995/\"\n",
    "\n",
    "# Path to the SEG FILE\n",
    "segmentation_file_path = \"../../rawdata/ISPY2/images/ISPY2-100899/10-26-2002-100899T0-ISPY2MRIT0-88595/51900.000000-ISPY2 VOLSER uni-lateral cropped Analysis Mask-78091/1-1.dcm\""
   ]
  },
  {
   "cell_type": "markdown",
   "metadata": {},
   "source": [
    "# Load in image and segmentation"
   ]
  },
  {
   "cell_type": "code",
   "execution_count": 12,
   "metadata": {},
   "outputs": [],
   "source": [
    "# Load the image (CT or MR)\n",
    "image = read_dicom_series(image_dir_path)\n",
    "\n",
    "# Load in the segmentation file (this is set up for RTSTRUCT)\n",
    "# This will return a dictionary of segmentation images, with the keys being the ROI names\n",
    "seg_image_dict = loadSegmentation(segmentation_file_path, modality = 'SEG')\n",
    "\n",
    "# Get the segmentation image for the ROI of interest\n",
    "seg_image = flattenImage(seg_image_dict[\"VOLSER Analysis Mask\"])"
   ]
  },
  {
   "cell_type": "markdown",
   "metadata": {},
   "source": [
    "# Confirm that loading working correctly\n",
    "\n",
    "The dimensions of the image and segmenation should match."
   ]
  },
  {
   "cell_type": "code",
   "execution_count": null,
   "metadata": {},
   "outputs": [],
   "source": [
    "print(\"Image dimensions: \", image.GetSize())\n",
    "print(\"Segmentation dimensions: \", seg_image.GetSize())"
   ]
  },
  {
   "cell_type": "markdown",
   "metadata": {},
   "source": [
    "## Extract Radiomic Features"
   ]
  },
  {
   "cell_type": "code",
   "execution_count": null,
   "metadata": {},
   "outputs": [],
   "source": [
    "# Pick which config settings to use for PyRadiomics feature extraction\n",
    "pyradiomics_param_file_path = \"../config/default_pyradiomics.yaml\"\n",
    "\n",
    "# Run PyRadiomics feature extraction with REAII function\n",
    "radiomic_features_dict = singleRadiomicFeatureExtraction(image, seg_image, pyradiomics_param_file_path, randomSeed=10)\n",
    "\n",
    "# Convert to dataframe\n",
    "rad_features_df = pd.DataFrame.from_dict(radiomic_features_dict, orient=\"index\").transpose()\n"
   ]
  },
  {
   "cell_type": "markdown",
   "metadata": {},
   "source": [
    "# Save out the results of the feature extraction"
   ]
  },
  {
   "cell_type": "code",
   "execution_count": 9,
   "metadata": {},
   "outputs": [],
   "source": [
    "save_radiomics_path = Path(\"results/4D-Lung/readii_radiomic_features.csv\")\n",
    "save_radiomics_path.parent.mkdir(parents=True, exist_ok=True)\n",
    "\n",
    "rad_features_df.to_csv(save_radiomics_path, index=False)"
   ]
  }
 ],
 "metadata": {
  "kernelspec": {
   "display_name": "ispy-readii",
   "language": "python",
   "name": "ispy_readii"
  },
  "language_info": {
   "codemirror_mode": {
    "name": "ipython",
    "version": 3
   },
   "file_extension": ".py",
   "mimetype": "text/x-python",
   "name": "python",
   "nbconvert_exporter": "python",
   "pygments_lexer": "ipython3",
   "version": "3.12.8"
  }
 },
 "nbformat": 4,
 "nbformat_minor": 4
}
