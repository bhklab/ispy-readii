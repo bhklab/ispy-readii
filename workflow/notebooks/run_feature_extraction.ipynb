{
 "cells": [
  {
   "cell_type": "markdown",
   "metadata": {},
   "source": [
    "# Before getting started\n",
    "\n",
    "Make sure pixi is up to date by running the following command in your terminal:\n",
    "\n",
    "```bash\n",
    "pixi self-update\n",
    "```"
   ]
  },
  {
   "cell_type": "markdown",
   "metadata": {},
   "source": [
    "# Start JupyterLab\n",
    "\n",
    "To get the Jupyter kernel to work, \n",
    "\n",
    "1. Run the following commands in the terminal in the ispy-readii directory:\n",
    "    ```bash\n",
    "    pixi shell --manifest-path=./pixi.toml\n",
    "\n",
    "    pixi install\n",
    "\n",
    "    pixi run make_kernel\n",
    "    ```\n",
    "2. In the `Select Kernel` menu at the top right of the notebook, select `Jupyter Kernel` as the source. \n",
    "\n",
    "3. Refresh the options and one called `ispy-readii` should appear. Select this option."
   ]
  },
  {
   "cell_type": "markdown",
   "metadata": {},
   "source": [
    "# Imports"
   ]
  },
  {
   "cell_type": "code",
   "execution_count": 2,
   "metadata": {},
   "outputs": [],
   "source": [
    "import numpy as np\n",
    "from imgtools.io import read_dicom_series\n",
    "from imgtools.autopipeline import AutoPipeline\n",
    "import os\n",
    "import pandas as pd\n",
    "import subprocess\n",
    "\n",
    "from pathlib import Path\n",
    "from readii.loaders import loadSegmentation\n",
    "from readii.image_processing import flattenImage\n",
    "from readii.feature_extraction import singleRadiomicFeatureExtraction"
   ]
  },
  {
   "cell_type": "markdown",
   "metadata": {},
   "source": [
    "# Set Dataset Name"
   ]
  },
  {
   "cell_type": "code",
   "execution_count": 3,
   "metadata": {},
   "outputs": [],
   "source": [
    "DATASET_NAME = 'ISPY2'"
   ]
  },
  {
   "cell_type": "markdown",
   "metadata": {},
   "source": [
    "# ~~Run Med-Imagetools crawl~~\n",
    "\n",
    "~~This creates a file used by READII to associate the images with the corresponding segmentation files.~~\n",
    "\n",
    "This doesn't work for ISPY2, will be using code from `workflow/scripts/python/solid-BET-FSL.py` instead."
   ]
  },
  {
   "cell_type": "code",
   "execution_count": 4,
   "metadata": {},
   "outputs": [],
   "source": [
    "# mit_input_dir = f\"../../rawdata/{DATASET_NAME}\"\n",
    "# mit_output_dir = f\"../../procdata/{DATASET_NAME}/mit_output\"\n",
    "\n",
    "# modalities = \"MR,SEG\"\n",
    "# # LEAVE THIS ONE\n",
    "# dry_run = False\n",
    "\n",
    "# # Set up and run the pipeline\n",
    "# pipeline = AutoPipeline(input_directory=mit_input_dir,\n",
    "#                         output_directory=mit_output_dir,\n",
    "#                         modalities=modalities,\n",
    "#                         dry_run=dry_run,\n",
    "#                         show_progress=False) \n",
    "\n",
    "# pipeline.run()"
   ]
  },
  {
   "cell_type": "markdown",
   "metadata": {},
   "source": [
    "# Convert MRI to NIFTI\n",
    "\n",
    "Insert code from `solid-BET-FSL.py` lines 36-52 here"
   ]
  },
  {
   "cell_type": "code",
   "execution_count": 5,
   "metadata": {},
   "outputs": [
    {
     "data": {
      "text/plain": [
       "'ISPY2-100899'"
      ]
     },
     "execution_count": 5,
     "metadata": {},
     "output_type": "execute_result"
    }
   ],
   "source": [
    "raw_image_dir_path = Path(f\"../../rawdata/ISPY2/images/ISPY2-100899/10-26-2002-100899T0-ISPY2MRIT0-88595/51800.000000-ISPY2 VOLSER uni-lateral cropped original DCE-30523\")\n",
    "\n",
    "raw_image_dir_path.parent.parent.name"
   ]
  },
  {
   "cell_type": "code",
   "execution_count": 6,
   "metadata": {},
   "outputs": [
    {
     "data": {
      "text/plain": [
       "CompletedProcess(args=['pixi', 'run', 'dcm2niix', '-z', 'y', '-f', 'ISPY2-100899_MRI', '-o', '..\\\\..\\\\procdata\\\\ISPY2\\\\converted_niftis\\\\ISPY2-100899\\\\MR', '..\\\\..\\\\rawdata\\\\Breast\\\\ISPY2-100899\\\\10-26-2002-100899T0-ISPY2MRIT0-88595\\\\51800.000000-ISPY2 VOLSER uni-lateral cropped original DCE-30523'], returncode=0, stdout=\"Chris Rorden's dcm2niiX version v1.0.20241211  MSC1929  (64-bit Windows)\\nFound 640 DICOM file(s)\\nWarning: Missing GE protocol data block (0025,101B)\\n::autoBids:GE usedSeqName:'' seqName:'' internalSeqName:'' seriesDesc:'ISPY2: VOLSER: uni-lateral cropped: original DCE' scanSeq:'GR' stepDesc:'' bidsData:'' bidsSuffix:'_acq-_run-51800'\\nConvert 640 DICOM as ..\\\\..\\\\procdata\\\\ISPY2\\\\converted_niftis\\\\ISPY2-100899\\\\MR\\\\ISPY2-100899_MRIb (256x256x80x8)\\nConversion required 9.154000 seconds.\\n\", stderr='')"
      ]
     },
     "execution_count": 6,
     "metadata": {},
     "output_type": "execute_result"
    }
   ],
   "source": [
    "raw_image_dir_path = Path(f\"../../rawdata/Breast/ISPY2-100899/10-26-2002-100899T0-ISPY2MRIT0-88595/51800.000000-ISPY2 VOLSER uni-lateral cropped original DCE-30523\")\n",
    " \n",
    "proc_image_dir_path = Path(f\"../../procdata/{DATASET_NAME}/converted_niftis/ISPY2-100899/MR\")\n",
    "proc_image_dir_path.mkdir(parents=True, exist_ok=True)\n",
    "patient_id = raw_image_dir_path.parent.parent.name\n",
    "\n",
    "# try:\n",
    "dcm_name = patient_id + \"_MRI\"\n",
    "\n",
    "# subprocess.run([\n",
    "#         'dcm2niix',\n",
    "#         '-z', 'y',  # Compress output file with gzip\n",
    "#         '-f', dcm_name,  # Output filename format\n",
    "#         '-o', proc_image_dir_path,  # Output directory\n",
    "#         raw_image_dir_path # Input directory\n",
    "# ])\n",
    "\n",
    "subprocess.run([ \"pixi\", \"run\", \"dcm2niix\", \"-z\", \"y\", \"-f\", dcm_name, \"-o\", str(proc_image_dir_path), str(raw_image_dir_path)\n",
    "                ], check=True, capture_output=True, text=True)\n",
    "\n",
    "# except:\n",
    "#     print(f\"Error converting {raw_image_dir_path}\")"
   ]
  },
  {
   "cell_type": "markdown",
   "metadata": {},
   "source": [
    "# Run Bias Correction\n",
    "\n",
    "Insert code fom `solid-BET-FSL.py` lines 81-94 here"
   ]
  },
  {
   "cell_type": "code",
   "execution_count": 7,
   "metadata": {},
   "outputs": [
    {
     "data": {
      "text/plain": [
       "CompletedProcess(args=['bash', '-c', '. ../../.pixi/envs/default\\\\etc/fslconf/fsl.sh'], returncode=1)"
      ]
     },
     "execution_count": 7,
     "metadata": {},
     "output_type": "execute_result"
    }
   ],
   "source": [
    "fsl_dir = \"../../.pixi/envs/default\"\n",
    "os.environ[\"FSLDIR\"] = fsl_dir\n",
    "os.environ[\"PATH\"] += os.pathsep + os.path.join(fsl_dir, \"bin\")\n",
    "subprocess.run([\"bash\", \"-c\", f\". {os.path.join(fsl_dir, 'etc/fslconf/fsl.sh')}\"])\n",
    "# os.environ[\"FSLOUTPUTTYPE\"] = \"NIFTI_GZ\""
   ]
  },
  {
   "cell_type": "code",
   "execution_count": null,
   "metadata": {},
   "outputs": [
    {
     "ename": "TypeError",
     "evalue": "fast() missing 1 required positional argument: 'imgs'",
     "output_type": "error",
     "traceback": [
      "\u001b[1;31m---------------------------------------------------------------------------\u001b[0m",
      "\u001b[1;31mTypeError\u001b[0m                                 Traceback (most recent call last)",
      "Cell \u001b[1;32mIn[15], line 22\u001b[0m\n\u001b[0;32m     19\u001b[0m bias_corr_fname \u001b[38;5;241m=\u001b[39m bias_corr_path \u001b[38;5;241m/\u001b[39m (nifti_file\u001b[38;5;241m.\u001b[39mstem \u001b[38;5;241m+\u001b[39m \u001b[38;5;124m\"\u001b[39m\u001b[38;5;124m_biascorr\u001b[39m\u001b[38;5;124m\"\u001b[39m)\n\u001b[0;32m     21\u001b[0m \u001b[38;5;66;03m# ✅ Run bias correction using `fslpy`\u001b[39;00m\n\u001b[1;32m---> 22\u001b[0m \u001b[43mfsl\u001b[49m\u001b[38;5;241;43m.\u001b[39;49m\u001b[43mfast\u001b[49m\u001b[43m(\u001b[49m\u001b[43minfile\u001b[49m\u001b[38;5;241;43m=\u001b[39;49m\u001b[38;5;28;43mstr\u001b[39;49m\u001b[43m(\u001b[49m\u001b[43mnifti_file\u001b[49m\u001b[43m)\u001b[49m\u001b[43m,\u001b[49m\u001b[43m \u001b[49m\u001b[43mout\u001b[49m\u001b[38;5;241;43m=\u001b[39;49m\u001b[38;5;28;43mstr\u001b[39;49m\u001b[43m(\u001b[49m\u001b[43mbias_corr_fname\u001b[49m\u001b[43m)\u001b[49m\u001b[43m,\u001b[49m\u001b[43m \u001b[49m\u001b[43mB\u001b[49m\u001b[38;5;241;43m=\u001b[39;49m\u001b[38;5;28;43;01mTrue\u001b[39;49;00m\u001b[43m)\u001b[49m\n\u001b[0;32m     24\u001b[0m \u001b[38;5;28mprint\u001b[39m(\u001b[38;5;124mf\u001b[39m\u001b[38;5;124m\"\u001b[39m\u001b[38;5;124mBias correction completed for \u001b[39m\u001b[38;5;132;01m{\u001b[39;00mnifti_file\u001b[38;5;241m.\u001b[39mname\u001b[38;5;132;01m}\u001b[39;00m\u001b[38;5;124m -> \u001b[39m\u001b[38;5;132;01m{\u001b[39;00mbias_corr_fname\u001b[38;5;132;01m}\u001b[39;00m\u001b[38;5;124m\"\u001b[39m)\n",
      "File \u001b[1;32mc:\\Users\\azita\\anaconda3\\envs\\fsl-env\\Lib\\site-packages\\fsl\\wrappers\\wrapperutils.py:1309\u001b[0m, in \u001b[0;36mfileOrImage.<locals>.decorator.<locals>.wrapper\u001b[1;34m(*args, **kwargs)\u001b[0m\n\u001b[0;32m   1308\u001b[0m \u001b[38;5;28;01mdef\u001b[39;00m\u001b[38;5;250m \u001b[39m\u001b[38;5;21mwrapper\u001b[39m(\u001b[38;5;241m*\u001b[39margs, \u001b[38;5;241m*\u001b[39m\u001b[38;5;241m*\u001b[39mkwargs):\n\u001b[1;32m-> 1309\u001b[0m     result \u001b[38;5;241m=\u001b[39m \u001b[43mfot\u001b[49m\u001b[43m(\u001b[49m\u001b[38;5;241;43m*\u001b[39;49m\u001b[43margs\u001b[49m\u001b[43m,\u001b[49m\u001b[43m \u001b[49m\u001b[38;5;241;43m*\u001b[39;49m\u001b[38;5;241;43m*\u001b[39;49m\u001b[43mkwargs\u001b[49m\u001b[43m)\u001b[49m\n\u001b[0;32m   1310\u001b[0m     intypes[:] \u001b[38;5;241m=\u001b[39m []\n\u001b[0;32m   1311\u001b[0m     \u001b[38;5;28;01mreturn\u001b[39;00m result\n",
      "File \u001b[1;32mc:\\Users\\azita\\anaconda3\\envs\\fsl-env\\Lib\\site-packages\\fsl\\wrappers\\wrapperutils.py:947\u001b[0m, in \u001b[0;36mFileOrThing.__call__\u001b[1;34m(self, *args, **kwargs)\u001b[0m\n\u001b[0;32m    945\u001b[0m \u001b[38;5;66;03m# Call the function\u001b[39;00m\n\u001b[0;32m    946\u001b[0m \u001b[38;5;28;01mtry\u001b[39;00m:\n\u001b[1;32m--> 947\u001b[0m     result \u001b[38;5;241m=\u001b[39m \u001b[43mfunc\u001b[49m\u001b[43m(\u001b[49m\u001b[38;5;241;43m*\u001b[39;49m\u001b[43margs\u001b[49m\u001b[43m,\u001b[49m\u001b[43m \u001b[49m\u001b[38;5;241;43m*\u001b[39;49m\u001b[38;5;241;43m*\u001b[39;49m\u001b[43mkwargs\u001b[49m\u001b[43m)\u001b[49m\n\u001b[0;32m    949\u001b[0m \u001b[38;5;28;01mfinally\u001b[39;00m:\n\u001b[0;32m    950\u001b[0m     \u001b[38;5;66;03m# if we're the top-level FileOrThing\u001b[39;00m\n\u001b[0;32m    951\u001b[0m     \u001b[38;5;66;03m# decorator, remove the attributes we\u001b[39;00m\n\u001b[0;32m    952\u001b[0m     \u001b[38;5;66;03m# added above.\u001b[39;00m\n\u001b[0;32m    953\u001b[0m     \u001b[38;5;28;01mif\u001b[39;00m parent:\n",
      "File \u001b[1;32mc:\\Users\\azita\\anaconda3\\envs\\fsl-env\\Lib\\site-packages\\fsl\\wrappers\\wrapperutils.py:1351\u001b[0m, in \u001b[0;36mfileOrArray.<locals>.decorator.<locals>.wrapper\u001b[1;34m(*args, **kwargs)\u001b[0m\n\u001b[0;32m   1350\u001b[0m \u001b[38;5;28;01mdef\u001b[39;00m\u001b[38;5;250m \u001b[39m\u001b[38;5;21mwrapper\u001b[39m(\u001b[38;5;241m*\u001b[39margs, \u001b[38;5;241m*\u001b[39m\u001b[38;5;241m*\u001b[39mkwargs):\n\u001b[1;32m-> 1351\u001b[0m     \u001b[38;5;28;01mreturn\u001b[39;00m \u001b[43mfot\u001b[49m\u001b[43m(\u001b[49m\u001b[38;5;241;43m*\u001b[39;49m\u001b[43margs\u001b[49m\u001b[43m,\u001b[49m\u001b[43m \u001b[49m\u001b[38;5;241;43m*\u001b[39;49m\u001b[38;5;241;43m*\u001b[39;49m\u001b[43mkwargs\u001b[49m\u001b[43m)\u001b[49m\n",
      "File \u001b[1;32mc:\\Users\\azita\\anaconda3\\envs\\fsl-env\\Lib\\site-packages\\fsl\\wrappers\\wrapperutils.py:947\u001b[0m, in \u001b[0;36mFileOrThing.__call__\u001b[1;34m(self, *args, **kwargs)\u001b[0m\n\u001b[0;32m    945\u001b[0m \u001b[38;5;66;03m# Call the function\u001b[39;00m\n\u001b[0;32m    946\u001b[0m \u001b[38;5;28;01mtry\u001b[39;00m:\n\u001b[1;32m--> 947\u001b[0m     result \u001b[38;5;241m=\u001b[39m \u001b[43mfunc\u001b[49m\u001b[43m(\u001b[49m\u001b[38;5;241;43m*\u001b[39;49m\u001b[43margs\u001b[49m\u001b[43m,\u001b[49m\u001b[43m \u001b[49m\u001b[38;5;241;43m*\u001b[39;49m\u001b[38;5;241;43m*\u001b[39;49m\u001b[43mkwargs\u001b[49m\u001b[43m)\u001b[49m\n\u001b[0;32m    949\u001b[0m \u001b[38;5;28;01mfinally\u001b[39;00m:\n\u001b[0;32m    950\u001b[0m     \u001b[38;5;66;03m# if we're the top-level FileOrThing\u001b[39;00m\n\u001b[0;32m    951\u001b[0m     \u001b[38;5;66;03m# decorator, remove the attributes we\u001b[39;00m\n\u001b[0;32m    952\u001b[0m     \u001b[38;5;66;03m# added above.\u001b[39;00m\n\u001b[0;32m    953\u001b[0m     \u001b[38;5;28;01mif\u001b[39;00m parent:\n",
      "File \u001b[1;32mc:\\Users\\azita\\anaconda3\\envs\\fsl-env\\Lib\\site-packages\\fsl\\wrappers\\wrapperutils.py:232\u001b[0m, in \u001b[0;36mgenxwrapper.<locals>.wrapper\u001b[1;34m(*args, **kwargs)\u001b[0m\n\u001b[0;32m    222\u001b[0m \u001b[38;5;66;03m# many wrapper functions use fsl.utils.assertions\u001b[39;00m\n\u001b[0;32m    223\u001b[0m \u001b[38;5;66;03m# statements to check that input arguments are\u001b[39;00m\n\u001b[0;32m    224\u001b[0m \u001b[38;5;66;03m# valid. Disable these if the cmdonly argument is\u001b[39;00m\n\u001b[1;32m   (...)\u001b[0m\n\u001b[0;32m    229\u001b[0m \u001b[38;5;66;03m# may not be valid.\u001b[39;00m\n\u001b[0;32m    230\u001b[0m \u001b[38;5;28;01melse\u001b[39;00m:\n\u001b[0;32m    231\u001b[0m     \u001b[38;5;28;01mwith\u001b[39;00m asrt\u001b[38;5;241m.\u001b[39mdisabled(cmdonly \u001b[38;5;129;01mor\u001b[39;00m (submit \u001b[38;5;129;01mnot\u001b[39;00m \u001b[38;5;129;01min\u001b[39;00m (\u001b[38;5;28;01mNone\u001b[39;00m, \u001b[38;5;28;01mFalse\u001b[39;00m))):\n\u001b[1;32m--> 232\u001b[0m         cmd \u001b[38;5;241m=\u001b[39m \u001b[43mfunc\u001b[49m\u001b[43m(\u001b[49m\u001b[38;5;241;43m*\u001b[39;49m\u001b[43margs\u001b[49m\u001b[43m,\u001b[49m\u001b[43m \u001b[49m\u001b[38;5;241;43m*\u001b[39;49m\u001b[38;5;241;43m*\u001b[39;49m\u001b[43mkwargs\u001b[49m\u001b[43m)\u001b[49m\n\u001b[0;32m    234\u001b[0m \u001b[38;5;28;01mreturn\u001b[39;00m runner(cmd,\n\u001b[0;32m    235\u001b[0m               stderr\u001b[38;5;241m=\u001b[39mstderr,\n\u001b[0;32m    236\u001b[0m               log\u001b[38;5;241m=\u001b[39mlogg,\n\u001b[1;32m   (...)\u001b[0m\n\u001b[0;32m    239\u001b[0m               stdout\u001b[38;5;241m=\u001b[39mstdout,\n\u001b[0;32m    240\u001b[0m               exitcode\u001b[38;5;241m=\u001b[39mexitcode)\n",
      "\u001b[1;31mTypeError\u001b[0m: fast() missing 1 required positional argument: 'imgs'"
     ]
    }
   ],
   "source": [
    "\n",
    "\n",
    "# for nifti_file in proc_image_dir_path.rglob('*.nii.gz'):\n",
    "#     bias_corr_fname = bias_corr_path / (patient_id + \"nii.gz\")\n",
    "#     subprocess.run([\n",
    "#         'fast',\n",
    "#         '-B',\n",
    "#         '-o',\n",
    "#         bias_corr_fname,\n",
    "#         nifti_file\n",
    "#     ])\n",
    "\n",
    "import subprocess\n",
    "from pathlib import Path\n",
    "\n",
    "\n",
    "bias_corr_path = Path(f\"../../procdata/{DATASET_NAME}/bias_corrected_MR\")\n",
    "\n",
    "# Loop through all .nii.gz files in the processed image directory\n",
    "for nifti_file in proc_image_dir_path.rglob('*.nii.gz'):\n",
    "    bias_corr_fname = bias_corr_path / (nifti_file.stem + \"_biascorr\")\n",
    "\n",
    "    # ✅ Run bias correction using `fslpy`\n",
    "    fsl.fast(imgs=str(nifti_file), out=str(bias_corr_fname), B=True)\n",
    "\n",
    "    print(f\"Bias correction completed for {nifti_file.name} -> {bias_corr_fname}\")\n"
   ]
  },
  {
   "cell_type": "markdown",
   "metadata": {},
   "source": [
    "# File path setup\n",
    "\n",
    "This is an example with a CT scan and RTSTRUCT. Copy the below cell and replace with MRI data paths. Keep variable names the same."
   ]
  },
  {
   "cell_type": "code",
   "execution_count": null,
   "metadata": {},
   "outputs": [],
   "source": [
    "# Path to the DIRECTORY that contains all the CT dcm files\n",
    "image_dir_path = \"../../rawdata/ISPY2/images/ISPY2-100899/10-26-2002-100899T0-ISPY2MRIT0-88595/51000.000000-ISPY2 VOLSER uni-lateral cropped SER-33995/\"\n",
    "\n",
    "# Path to the SEG FILE\n",
    "segmentation_file_path = \"../../rawdata/ISPY2/images/ISPY2-100899/10-26-2002-100899T0-ISPY2MRIT0-88595/51900.000000-ISPY2 VOLSER uni-lateral cropped Analysis Mask-78091/1-1.dcm\""
   ]
  },
  {
   "cell_type": "markdown",
   "metadata": {},
   "source": [
    "# Load in image and segmentation"
   ]
  },
  {
   "cell_type": "code",
   "execution_count": null,
   "metadata": {},
   "outputs": [],
   "source": [
    "# Load the image (CT or MR)\n",
    "image = read_dicom_series(image_dir_path)\n",
    "\n",
    "# Load in the segmentation file (this is set up for RTSTRUCT)\n",
    "# This will return a dictionary of segmentation images, with the keys being the ROI names\n",
    "seg_image_dict = loadSegmentation(segmentation_file_path, modality = 'SEG')\n",
    "\n",
    "# Get the segmentation image for the ROI of interest\n",
    "seg_image = flattenImage(seg_image_dict[\"VOLSER Analysis Mask\"])"
   ]
  },
  {
   "cell_type": "markdown",
   "metadata": {},
   "source": [
    "# Confirm that loading working correctly\n",
    "\n",
    "The dimensions of the image and segmenation should match."
   ]
  },
  {
   "cell_type": "code",
   "execution_count": null,
   "metadata": {},
   "outputs": [],
   "source": [
    "print(\"Image dimensions: \", image.GetSize())\n",
    "print(\"Segmentation dimensions: \", seg_image.GetSize())"
   ]
  },
  {
   "cell_type": "markdown",
   "metadata": {},
   "source": [
    "## Extract Radiomic Features"
   ]
  },
  {
   "cell_type": "code",
   "execution_count": null,
   "metadata": {},
   "outputs": [],
   "source": [
    "# Pick which config settings to use for PyRadiomics feature extraction\n",
    "pyradiomics_param_file_path = \"../config/default_pyradiomics.yaml\"\n",
    "\n",
    "# Run PyRadiomics feature extraction with REAII function\n",
    "radiomic_features_dict = singleRadiomicFeatureExtraction(image, seg_image, pyradiomics_param_file_path, randomSeed=10)\n",
    "\n",
    "# Convert to dataframe\n",
    "rad_features_df = pd.DataFrame.from_dict(radiomic_features_dict, orient=\"index\").transpose()\n"
   ]
  },
  {
   "cell_type": "markdown",
   "metadata": {},
   "source": [
    "# Save out the results of the feature extraction"
   ]
  },
  {
   "cell_type": "code",
   "execution_count": null,
   "metadata": {},
   "outputs": [],
   "source": [
    "save_radiomics_path = Path(\"results/4D-Lung/readii_radiomic_features.csv\")\n",
    "save_radiomics_path.parent.mkdir(parents=True, exist_ok=True)\n",
    "\n",
    "rad_features_df.to_csv(save_radiomics_path, index=False)"
   ]
  }
 ],
 "metadata": {
  "kernelspec": {
   "display_name": "Python 3",
   "language": "python",
   "name": "python3"
  },
  "language_info": {
   "codemirror_mode": {
    "name": "ipython",
    "version": 3
   },
   "file_extension": ".py",
   "mimetype": "text/x-python",
   "name": "python",
   "nbconvert_exporter": "python",
   "pygments_lexer": "ipython3",
   "version": "3.11.11"
  }
 },
 "nbformat": 4,
 "nbformat_minor": 4
}
