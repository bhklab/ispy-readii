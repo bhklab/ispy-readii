{
 "cells": [
  {
   "cell_type": "markdown",
   "metadata": {},
   "source": [
    "# Before getting started\n",
    "\n",
    "Make sure pixi is up to date by running the following command in your terminal:\n",
    "\n",
    "```bash\n",
    "pixi self-update\n",
    "```"
   ]
  },
  {
   "cell_type": "markdown",
   "metadata": {},
   "source": [
    "# Start JupyterLab\n",
    "\n",
    "To get the Jupyter kernel to work, run the following command in the terminal in the ispy-readii directory:\n",
    "\n",
    "```bash\n",
    "pixi shell --manifest-path=./pixi.toml\n",
    "\n",
    "pixi run make_kernel\n",
    "```\n",
    "Then click on the Select Kernel button in the top right corner of the JupyterLab interface.\n",
    "\n",
    "Select Jupyter Kernel, refresh the list of kernels, and select the ispy-readii kernel."
   ]
  },
  {
   "cell_type": "markdown",
   "metadata": {},
   "source": [
    "# Imports"
   ]
  },
  {
   "cell_type": "code",
   "execution_count": 1,
   "metadata": {},
   "outputs": [],
   "source": [
    "from imgtools.io import read_dicom_series\n",
    "from imgtools.autopipeline import AutoPipeline\n",
    "import os\n",
    "import pandas as pd\n",
    "from readii.loaders import loadSegmentation\n",
    "from readii.feature_extraction import singleRadiomicFeatureExtraction"
   ]
  },
  {
   "cell_type": "markdown",
   "metadata": {},
   "source": [
    "# File path setup\n",
    "\n",
    "This is an example with a CT scan and RTSTRUCT. Copy the below cell and replace with MRI data paths. Keep variable names the same."
   ]
  },
  {
   "cell_type": "code",
   "execution_count": 2,
   "metadata": {},
   "outputs": [],
   "source": [
    "# Path to the DIRECTORY that contains all the CT dcm files\n",
    "image_dir_path = \"rawdata/4D-Lung/113_HM10395/11-26-1999-NA-p4-13296/1.000000-P4P113S303I10349 Gated 40.0B-29543/\"\n",
    "\n",
    "# Path to the SEG FILE\n",
    "segmentation_file_path = \"rawdata/4D-Lung/113_HM10395/11-26-1999-NA-p4-13296/1.000000-P4P113S303I10349 Gated 40.0B-47.35/1-1.dcm\""
   ]
  },
  {
   "cell_type": "markdown",
   "metadata": {},
   "source": [
    "# Run Med-Imagetools crawl\n",
    "\n",
    "This creates a file used by READII to associate the images with the corresponding segmentation files."
   ]
  },
  {
   "cell_type": "code",
   "execution_count": 4,
   "metadata": {},
   "outputs": [
    {
     "name": "stdout",
     "output_type": "stream",
     "text": [
      "The dataset has already been indexed.\n",
      "Edge table is already present. Loading the data...\n",
      "Forming the graph based on the given modalities: CT,RTSTRUCT\n",
      "There are 1 cases containing all CT,RTSTRUCT modalities.\n",
      "Dataset already processed...\n"
     ]
    },
    {
     "name": "stderr",
     "output_type": "stream",
     "text": [
      "/Users/katyscott/Documents/Radiogenomics/I-SPY2/ispy-readii/.pixi/envs/default/lib/python3.12/site-packages/imgtools/modules/datagraph.py:428: UserWarning: This pattern is interpreted as a regular expression, and has match groups. To actually get the groups, use str.extract.\n",
      "  relevant_study_id = self.df_new.loc[(self.df_new.edge_type.str.contains(regex_term)), \"study_x\"].unique()\n"
     ]
    }
   ],
   "source": [
    "# CHANGE THESE THREE PATHS TO ISPY\n",
    "mit_input_dir = \"rawdata/4D-Lung\"\n",
    "mit_output_dir = \"procdata/4D-Lung/mit_output\"\n",
    "# CHANGE CT TO MR\n",
    "modalities = \"CT,RTSTRUCT\"\n",
    "# LEAVE THIS ONE\n",
    "dry_run = False\n",
    "\n",
    "# Set up and run the pipeline\n",
    "pipeline = AutoPipeline(input_directory=mit_input_dir,\n",
    "                        output_directory=mit_output_dir,\n",
    "                        modalities=modalities,\n",
    "                        dry_run=dry_run,\n",
    "                        show_progress=False)\n",
    "\n",
    "pipeline.run()"
   ]
  },
  {
   "cell_type": "markdown",
   "metadata": {},
   "source": [
    "# List ROI names in the RTSTRUCT file\n",
    "\n",
    "To load in the RTSTRUCT and get just the ROI we want, we need to make a dictionary with all the possible variations of the ROI names.\n",
    "\n",
    "E.g. for a GTV ROI, we might have: GTV, GTVp, GTV1, GTP-p, etc.\n",
    "\n",
    "Using this will rename any ROI that matches one of these names to GTV."
   ]
  },
  {
   "cell_type": "code",
   "execution_count": 5,
   "metadata": {},
   "outputs": [
    {
     "data": {
      "text/plain": [
       "{'Carina_c40': 1, 'Tumor_c40': 1, 'LN_c40': 1, 'Vertebra_c40': 1}"
      ]
     },
     "execution_count": 5,
     "metadata": {},
     "output_type": "execute_result"
    }
   ],
   "source": [
    "# List all the ROI names present in the RTSTRUCT \n",
    "getRTStructsRoiNames(mit_input_dir)"
   ]
  },
  {
   "cell_type": "code",
   "execution_count": 6,
   "metadata": {},
   "outputs": [],
   "source": [
    "# Select the name you want to give to your ROIs (e.g. GTV or tumor) and list any ROI names from previous cell output you want to include\n",
    "roi_name = \"GTV\"\n",
    "roi_name_options = {roi_name: [\"Tumor_c40\"]}"
   ]
  },
  {
   "cell_type": "markdown",
   "metadata": {},
   "source": [
    "# Load in image and segmentation"
   ]
  },
  {
   "cell_type": "code",
   "execution_count": 7,
   "metadata": {},
   "outputs": [
    {
     "name": "stdout",
     "output_type": "stream",
     "text": [
      "labels: {'GTV': ['Tumor_c40']}\n"
     ]
    }
   ],
   "source": [
    "# Load the image (CT or MR)\n",
    "image = read_dicom_series(image_dir_path)\n",
    "\n",
    "# Load in the segmentation file (this is set up for RTSTRUCT)\n",
    "# This will return a dictionary of segmentation images, with the keys being the ROI names\n",
    "seg_image_dict = loadSegmentation(rtstruct_file_path, modality = 'RTSTRUCT', \n",
    "                                  baseImageDirPath=image_dir_path, roiNames=roi_name_options)\n",
    "\n",
    "# Get the segmentation image for the ROI of interest\n",
    "seg_image = seg_image_dict[roi_name]"
   ]
  },
  {
   "cell_type": "markdown",
   "metadata": {},
   "source": [
    "# Confirm that loading working correctly\n",
    "\n",
    "The dimensions of the image and segmenation should match."
   ]
  },
  {
   "cell_type": "code",
   "execution_count": 7,
   "metadata": {},
   "outputs": [
    {
     "name": "stdout",
     "output_type": "stream",
     "text": [
      "Image dimensions:  (512, 512, 99)\n",
      "Segmentation dimensions:  (512, 512, 99)\n"
     ]
    }
   ],
   "source": [
    "print(\"Image dimensions: \", image.GetSize())\n",
    "print(\"Segmentation dimensions: \", seg_image.GetSize())"
   ]
  },
  {
   "cell_type": "markdown",
   "metadata": {},
   "source": [
    "## Extract Radiomic Features"
   ]
  },
  {
   "cell_type": "code",
   "execution_count": 8,
   "metadata": {},
   "outputs": [
    {
     "name": "stderr",
     "output_type": "stream",
     "text": [
      "\u001b[2m2024-11-13T15:39:35-0500\u001b[0m [\u001b[32m\u001b[1minfo     \u001b[0m] \u001b[1mSetting up Pyradiomics feature extractor...\u001b[0m \u001b[36mcall\u001b[0m=\u001b[35mfeature_extraction.singleRadiomicFeatureExtraction:123\u001b[0m\n",
      "\u001b[2m2024-11-13T15:39:35-0500\u001b[0m [\u001b[32m\u001b[1minfo     \u001b[0m] \u001b[1mStarting radiomic feature extraction...\u001b[0m \u001b[36mcall\u001b[0m=\u001b[35mfeature_extraction.singleRadiomicFeatureExtraction:130\u001b[0m\n"
     ]
    }
   ],
   "source": [
    "# Pick which config settings to use for PyRadiomics feature extraction\n",
    "pyradiomics_param_file_path = \"workflow/config/default_pyradiomics.yaml\"\n",
    "\n",
    "# Run PyRadiomics feature extraction with REAII function\n",
    "radiomic_features_dict = singleRadiomicFeatureExtraction(image, seg_image, pyradiomics_param_file_path, randomSeed=10)\n",
    "\n",
    "# Convert to dataframe\n",
    "rad_features_df = pd.DataFrame.from_dict(radiomic_features_dict, orient=\"index\").transpose()\n"
   ]
  },
  {
   "cell_type": "markdown",
   "metadata": {},
   "source": [
    "# Save out the results of the feature extraction"
   ]
  },
  {
   "cell_type": "code",
   "execution_count": 9,
   "metadata": {},
   "outputs": [],
   "source": [
    "save_radiomics_path = \"results/4D-Lung/readii_radiomic_features.csv\"\n",
    "\n",
    "if not os.path.exists(os.path.dirname(save_radiomics_path)):\n",
    "    os.makedirs(os.path.dirname(save_radiomics_path))\n",
    "\n",
    "rad_features_df.to_csv(save_radiomics_path, index=False)"
   ]
  }
 ],
 "metadata": {
  "kernelspec": {
   "display_name": "ispy-readii",
   "language": "python",
   "name": "ispy_readii"
  },
  "language_info": {
   "name": "python",
   "version": "3.12.8"
  }
 },
 "nbformat": 4,
 "nbformat_minor": 4
}
