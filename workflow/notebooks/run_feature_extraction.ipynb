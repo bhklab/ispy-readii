{
 "cells": [
  {
   "cell_type": "markdown",
   "metadata": {},
   "source": [
    "# Before getting started\n",
    "\n",
    "Make sure pixi is up to date by running the following command in your terminal:\n",
    "\n",
    "```bash\n",
    "pixi self-update\n",
    "```"
   ]
  },
  {
   "cell_type": "markdown",
   "metadata": {},
   "source": [
    "# Start JupyterLab\n",
    "\n",
    "To get the Jupyter kernel to work, \n",
    "\n",
    "1. Run the following commands in the terminal in the ispy-readii directory:\n",
    "    ```bash\n",
    "    pixi shell --manifest-path=./pixi.toml\n",
    "\n",
    "    pixi install\n",
    "\n",
    "    pixi run make_kernel\n",
    "    ```\n",
    "2. In the `Select Kernel` menu at the top right of the notebook, select `Jupyter Kernel` as the source. \n",
    "\n",
    "3. Refresh the options and one called `ispy-readii` should appear. Select this option."
   ]
  },
  {
   "cell_type": "markdown",
   "metadata": {},
   "source": [
    "# Imports"
   ]
  },
  {
   "cell_type": "code",
   "execution_count": 16,
   "metadata": {},
   "outputs": [],
   "source": [
    "# General Imports\n",
    "import os\n",
    "import pandas as pd\n",
    "import subprocess\n",
    "import numpy as np\n",
    "import matplotlib.pyplot as plt\n",
    "\n",
    "# Path handling\n",
    "from pathlib import Path\n",
    "\n",
    "# Image Processing Libraries\n",
    "import SimpleITK as sitk\n",
    "from imgtools.io import read_dicom_series\n",
    "from imgtools.autopipeline import AutoPipeline\n",
    "from readii.loaders import loadSegmentation\n",
    "from readii.image_processing import flattenImage\n",
    "from readii.feature_extraction import singleRadiomicFeatureExtraction"
   ]
  },
  {
   "cell_type": "markdown",
   "metadata": {},
   "source": [
    "## Set  Dataset Name "
   ]
  },
  {
   "cell_type": "code",
   "execution_count": 17,
   "metadata": {},
   "outputs": [],
   "source": [
    "DATASET_NAME = \"ISPY2\""
   ]
  },
  {
   "cell_type": "markdown",
   "metadata": {},
   "source": [
    "# ~~Run Med-Imagetools crawl~~\n",
    "\n",
    "~~This creates a file used by READII to associate the images with the corresponding segmentation files.~~\n",
    "\n",
    "~~This doesn't work for ISPY2, will be using code from `workflow/scripts/python/solid-BET-FSL.py` lines 36-52 here~~\n",
    "\n"
   ]
  },
  {
   "cell_type": "code",
   "execution_count": 18,
   "metadata": {},
   "outputs": [],
   "source": [
    "# mit_input_dir = f\"../../rawdata/{DATASET_NAME}\"\n",
    "# mit_output_dir = f\"../../procdata/{DATASET_NAME}/mit_output\"\n",
    "\n",
    "# modalities = \"MR,SEG\"\n",
    "# # LEAVE THIS ONE\n",
    "# dry_run = False\n",
    "\n",
    "# # Set up and run the pipeline\n",
    "# pipeline = AutoPipeline(input_directory=mit_input_dir,\n",
    "#                         output_directory=mit_output_dir,\n",
    "#                         modalities=modalities,\n",
    "#                         dry_run=dry_run,\n",
    "#                         show_progress=False) \n",
    "\n",
    "# pipeline.run()"
   ]
  },
  {
   "cell_type": "markdown",
   "metadata": {},
   "source": [
    "\n",
    "# Convert MRI to NIfTI  \n",
    "~~Refer to lines 36–52 in `workflow/scripts/python/solid-BET-FSL.py`~~\n",
    "\n",
    "The only two MRI scans that match the size of our segmentation are:"
   ]
  },
  {
   "cell_type": "code",
   "execution_count": null,
   "metadata": {},
   "outputs": [
    {
     "name": "stdout",
     "output_type": "stream",
     "text": [
      " DICOM converted to NIfTI: ..\\..\\procdata\\ISPY2\\ISPY2-100899\\converted_niftis\\ISPY2-100899\\MR\\ISPY2-100899_raw.nii.gz\n"
     ]
    }
   ],
   "source": [
    "# Define raw DICOM directory and output NIfTI path\n",
    "MR_image_dir_path = Path(f\"../../rawdata/{DATASET_NAME}/ISPY2-100899/10-26-2002-100899T0-ISPY2MRIT0-88595/51800.000000-ISPY2 VOLSER uni-lateral cropped original DCE-30523/\")\n",
    "nifti_output_path = Path(f\"../../procdata/{DATASET_NAME}/ISPY2-100899/converted_niftis/MR/ISPY2-100899_raw.nii.gz\")\n",
    "\n",
    "# Read all DICOM files as a 3D volume\n",
    "reader = sitk.ImageSeriesReader()\n",
    "dicom_series = reader.GetGDCMSeriesFileNames(str(MR_image_dir_path))\n",
    "reader.SetFileNames(dicom_series)\n",
    "mri_image = reader.Execute()\n",
    "\n",
    "# Save the raw MRI as NIfTI\n",
    "sitk.WriteImage(mri_image, str(nifti_output_path))\n",
    "print(f\" DICOM converted to NIfTI: {nifti_output_path}\")"
   ]
  },
  {
   "cell_type": "markdown",
   "metadata": {},
   "source": [
    "# Run Bias Correction\n",
    "\n",
    "The `install_fsl.sh` lines 81-94 here. script installs `fsl-base` and `fslpy`, but there is an error with `fast`, which is used for bias correction. \n",
    "Therefore, an alternative approach is used instead of FSL. Here, `ANTs N4BiasFieldCorrection` is applied. \n",
    "\n",
    "Reference to Bias Correction:[N4 Bias Field Correction](https://simpleitk.org/doxygen/v2_3/html/classitk_1_1simple_1_1N4BiasFieldCorrectionImageFilter.html)  "
   ]
  },
  {
   "cell_type": "code",
   "execution_count": null,
   "metadata": {},
   "outputs": [],
   "source": [
    "# Input NIfTI file (already converted from DICOM), Set Output path for bias-corrected image\n",
    "bias_corr_path = Path(f\"../../procdata/{DATASET_NAME}/ISPY2-100899/bias_corrected_MR/MR/processed_image.nii.gz\")\n",
    "\n",
    "# Load the NIfTI image\n",
    "print(\"Loading NIfTI file...\")\n",
    "input_image = sitk.ReadImage(str(nifti_output_path))\n",
    "\n",
    "# Convert image to float32 (avoids intensity scaling issues)\n",
    "input_image = sitk.Cast(input_image, sitk.sitkFloat32)\n",
    "\n",
    "# Apply N4 Bias Field Correction\n",
    "print(\"Applying N4 Bias Field Correction...\")\n",
    "corrector = sitk.N4BiasFieldCorrectionImageFilter()\n",
    "output_image = corrector.Execute(input_image)\n",
    "# Save the bias-corrected image as NIfTI\n",
    "sitk.WriteImage(output_image, str(bias_corr_path))\n",
    "print(f\"Bias correction applied. Output saved at: {bias_corr_path}\")"
   ]
  },
  {
   "cell_type": "code",
   "execution_count": null,
   "metadata": {},
   "outputs": [],
   "source": [
    "# Load NIfTI images\n",
    "input_image = sitk.ReadImage(nifti_output_path)\n",
    "MR_corrected_image = sitk.ReadImage(bias_corr_path)\n",
    "\n",
    "# Convert to NumPy arrays\n",
    "original_array = sitk.GetArrayFromImage(input_image)\n",
    "corrected_array = sitk.GetArrayFromImage(MR_corrected_image)\n",
    "\n",
    "# Show only the first 20 slices (max is 640)\n",
    "num_slices = min(20, original_array.shape[0])\n",
    "\n",
    "# Plot slices\n",
    "for slice_idx in range(num_slices):\n",
    "    fig, ax = plt.subplots(1, 2, figsize=(10, 5))\n",
    "    \n",
    "    ax[0].imshow(original_array[slice_idx], cmap=\"gray\")\n",
    "    ax[0].set_title(f\"Original - Slice {slice_idx}\")\n",
    "\n",
    "    ax[1].imshow(corrected_array[slice_idx], cmap=\"gray\")\n",
    "    ax[1].set_title(f\"Corrected - Slice {slice_idx}\")\n",
    "\n",
    "    plt.show()"
   ]
  },
  {
   "cell_type": "markdown",
   "metadata": {},
   "source": [
    "# Load in image and segmentation"
   ]
  },
  {
   "cell_type": "code",
   "execution_count": null,
   "metadata": {},
   "outputs": [
    {
     "name": "stdout",
     "output_type": "stream",
     "text": [
      "SEG image size: (256, 256, 80)\n",
      "MR bias correction size: (256, 256, 640)\n"
     ]
    }
   ],
   "source": [
    "# Path to the SEG file\n",
    "segmentation_file_path = Path(f\"../../rawdata/{DATASET_NAME}/ISPY2-100899/10-26-2002-100899T0-ISPY2MRIT0-88595/51900.000000-ISPY2 VOLSER uni-lateral cropped Analysis Mask-78091/1-1.dcm\")\n",
    "\n",
    "# Load the segmentation file (for SEG format)\n",
    "# This returns a dictionary of segmentation images, with ROI names as keys and image objects as values\n",
    "seg_image_dict = loadSegmentation(segmentation_file_path, modality='SEG')\n",
    "\n",
    "# Get the segmentation image for the specific ROI of interest\n",
    "# Flatten the image if it has extra dimensions, making it 3D\n",
    "seg_image = flattenImage(seg_image_dict[\"VOLSER Analysis Mask\"])\n",
    "\n",
    "\n",
    "print(\"SEG image size:\", seg_image.GetSize())\n",
    "print(\"MR bias correction size:\", MR_corrected_image.GetSize())\n"
   ]
  },
  {
   "cell_type": "markdown",
   "metadata": {},
   "source": [
    "\n",
    "# MRI Cropping and Segmentation Binarization  \n",
    "\n",
    "- **Reference**: [ISPY2 TCIA Collection](https://www.cancerimagingarchive.net/collection/ispy2/)  \n",
    "- **Documentation**: See *Analysis-mask-files-description.v20211020.doc* for details on FTV (Functional Tumor Volume) mask generation.  \n",
    "- **Relevant Studies**: *Breast-MRI-NACT-Pilot (I-SPY 1)* and *ACRIN_6657 / ACRIN_6698 (I-SPY 2)*  \n",
    "\n",
    "The FTV masking pipeline on DCE-MRI scans includes: (1) Manual VOI definition, (2) Background masking, (3) Percent Enhancement (PE) thresholding, (4) Connectivity filtering, and (5) Manual exclusion of non-tumor regions.\n",
    "\n",
    "> **Note**: These are **inverse masks**, where 0 indicates **FTV-included tumor voxels**.\n",
    "\n",
    "Our current segmentation includes multiple values: `[0, 1, 2, 17, 32, 33, 34, 49]`. However, **PyRadiomics requires binary masks** with only 0 (background) and 1 (tumor). To prepare the masks:  \n",
    "- Voxels with value 0 (tumor) → set to 1  \n",
    "- Voxels with values ≥ 1 (non-tumor) → set to 0 \n",
    "\n",
    "This ensures compatibility with PyRadiomics while preserving the FTV-included region.\n"
   ]
  },
  {
   "cell_type": "code",
   "execution_count": null,
   "metadata": {},
   "outputs": [],
   "source": [
    "# SEG binarization\n",
    "# with the loaded nifti SEG file:\n",
    "# convert it to a numpy array\n",
    "# make a copy of the array\n",
    "# in the copy, set values in original >= 1 to 0, values in original == 0 to 1\n",
    "# now the tumor will be 1, and everything else will be 0\n",
    "# print a slice of the copy to confirm"
   ]
  },
  {
   "cell_type": "code",
   "execution_count": 123,
   "metadata": {},
   "outputs": [
    {
     "name": "stdout",
     "output_type": "stream",
     "text": [
      "Original SEG values: [ 0  1  2 17 32 33 34 49]\n",
      "Binary mask values: [0 1]\n"
     ]
    },
    {
     "data": {
      "image/png": "[encoded data removed]",
      "text/plain": [
       "<Figure size 640x480 with 1 Axes>"
      ]
     },
     "metadata": {},
     "output_type": "display_data"
    },
    {
     "name": "stdout",
     "output_type": "stream",
     "text": [
      "Valid slices (tumor + background): 33 / 80 (41.25%)\n",
      "Slice indices: [27, 29, 30, 31, 32, 33, 34, 35, 36, 37, 38, 39, 40, 41, 42, 43, 44, 45, 46, 47, 48, 49, 50, 51, 52, 53, 54, 55, 56, 57, 58, 59, 60]\n"
     ]
    }
   ],
   "source": [
    "# 1. SEG binarization\n",
    "\n",
    "# Convert SEG image to NumPy array\n",
    "seg_array = sitk.GetArrayFromImage(seg_image)\n",
    "\n",
    "# Binarize: Set tumor (value 0) to 1, and non-tumor (value ≥1) to 0\n",
    "binary_seg = np.where(seg_array == 0, 1, 0)\n",
    "binary_seg_image = sitk.GetImageFromArray(binary_seg)\n",
    "\n",
    "# Check unique values\n",
    "print(\"Original SEG values:\", np.unique(seg_array))\n",
    "print(\"Binary mask values:\", np.unique(binary_seg))\n",
    "\n",
    "# Show middle slice\n",
    "mid_slice = binary_seg.shape[0] // 2\n",
    "plt.imshow(binary_seg[mid_slice], cmap='gray')\n",
    "plt.title(\"Middle Slice\")\n",
    "plt.axis('off')\n",
    "plt.show()\n",
    "\n",
    "# Slices with both tumor and background\n",
    "valid_slices = [i for i in range(binary_seg.shape[0]) if np.array_equal(np.unique(binary_seg[i]), [0, 1])]\n",
    "print(f\"Valid slices (tumor + background): {len(valid_slices)} / {binary_seg.shape[0]} ({100 * len(valid_slices) / binary_seg.shape[0]:.2f}%)\")\n",
    "print(f\"Slice indices: {valid_slices}\")"
   ]
  },
  {
   "cell_type": "code",
   "execution_count": null,
   "metadata": {},
   "outputs": [],
   "source": [
    "# 2. MRI Cropping\n",
    "# Get number of slices (z-axis) from the SEG\n",
    "# Crop the MRI to that number of slices\n",
    "# Need to figure out which end of the slices of the image to start from for cropping\n",
    "\n",
    "# Confirm that the images have the same size \n",
    "# Try saving them as niftis and view them with NiiVue extension in VS Code"
   ]
  },
  {
   "cell_type": "code",
   "execution_count": null,
   "metadata": {},
   "outputs": [],
   "source": [
    "# 2. MRI Cropping\n",
    "\n",
    "# Get number of slices (z-axis) from SEG\n",
    "num_slices = seg_array.shape[0]\n",
    "\n",
    "# Crop MRI image along z-axis to match SEG\n",
    "# (Assumes MRI and SEG are aligned spatially and have same orientation)\n",
    "mri_array = sitk.GetArrayFromImage(mri_image)\n",
    "cropped_mri = mri_array[:num_slices]  # Adjust as needed (start vs. end alignment)\n",
    "\n",
    "# Optional: check shape match\n",
    "print(\"SEG shape:\", seg_array.shape)\n",
    "print(\"Cropped MRI shape:\", cropped_mri.shape)\n",
    "\n",
    "# Save cropped image as nifti \n",
    "# procdata/ISPY2/ISPY2-100899/Cropped_binarized_MR/cropped_mri.nii.gz\n",
    "# opr nifti \n"
   ]
  },
  {
   "cell_type": "code",
   "execution_count": null,
   "metadata": {},
   "outputs": [
    {
     "name": "stdout",
     "output_type": "stream",
     "text": [
      "SEG slices: 80\n"
     ]
    },
    {
     "name": "stdout",
     "output_type": "stream",
     "text": [
      "MRI slices: 640\n",
      "Cropping MRI from the bottom (end).\n",
      "Cropped MRI saved successfully.\n"
     ]
    }
   ],
   "source": [
    "# Convert SEG and MRI to arrays\n",
    "seg_array = sitk.GetArrayFromImage(seg_image)\n",
    "mri_array = sitk.GetArrayFromImage(mri_image)\n",
    "\n",
    "# Get number of slices in SEG\n",
    "num_seg_slices = seg_array.shape[0]\n",
    "num_mri_slices = mri_array.shape[0]\n",
    "\n",
    "print(f\"SEG slices: {num_seg_slices}\")\n",
    "print(f\"MRI slices: {num_mri_slices}\")\n",
    "\n",
    "# Test start vs. end slice match with SEG\n",
    "diff_start = np.abs(mri_array[:num_seg_slices] - seg_array).sum()\n",
    "diff_end = np.abs(mri_array[-num_seg_slices:] - seg_array).sum()\n",
    "\n",
    "# Crop accordingly\n",
    "if diff_start < diff_end:\n",
    "    cropped_mri_array = mri_array[:num_seg_slices]\n",
    "    print(\"Cropping MRI from the top (start).\")\n",
    "else:\n",
    "    cropped_mri_array = mri_array[-num_seg_slices:]\n",
    "    print(\"Cropping MRI from the bottom (end).\")\n",
    "\n",
    "# Convert cropped array to image\n",
    "cropped_mri_image = sitk.GetImageFromArray(cropped_mri_array)\n",
    "\n",
    "# Copy spacing/origin/direction from SEG (not MRI) because it matches the new shape\n",
    "cropped_mri_image.CopyInformation(seg_image)\n",
    "\n",
    "# Save\n",
    "output_path = \"../../procdata/ISPY2/ISPY2-100899/Cropped_binarized_MR\"\n",
    "os.makedirs(output_path, exist_ok=True)\n",
    "sitk.WriteImage(cropped_mri_image, os.path.join(output_path, \"cropped_mri.nii.gz\"))\n",
    "print(\"Cropped MRI saved successfully.\")\n"
   ]
  },
  {
   "cell_type": "markdown",
   "metadata": {},
   "source": [
    "## Extract Radiomic Features"
   ]
  },
  {
   "cell_type": "code",
   "execution_count": 124,
   "metadata": {},
   "outputs": [],
   "source": [
    "# Pick which config settings to use for PyRadiomics feature extraction\n",
    "pyradiomics_param_file_path = \"../config/default_pyradiomics.yaml\"\n",
    "\n",
    "# Run PyRadiomics feature extraction with REAII function\n",
    "radiomic_features_dict = singleRadiomicFeatureExtraction(cropped_mri_image , binary_seg_image, pyradiomics_param_file_path, randomSeed=10)\n",
    "\n",
    "# Convert to dataframe\n",
    "rad_features_df = pd.DataFrame.from_dict(radiomic_features_dict, orient=\"index\").transpose()\n"
   ]
  },
  {
   "cell_type": "markdown",
   "metadata": {},
   "source": [
    "# Save out the results of the feature extraction"
   ]
  },
  {
   "cell_type": "code",
   "execution_count": 126,
   "metadata": {},
   "outputs": [],
   "source": [
    "save_radiomics_path = Path(\"../../results/ISPY2/readii_radiomic_features.csv\")\n",
    "save_radiomics_path.parent.mkdir(parents=True, exist_ok=True)\n",
    "\n",
    "rad_features_df.to_csv(save_radiomics_path, index=False)"
   ]
  }
 ],
 "metadata": {
  "kernelspec": {
   "display_name": "Python (readii_env)",
   "language": "python",
   "name": "readii_env"
  },
  "language_info": {
   "codemirror_mode": {
    "name": "ipython",
    "version": 3
   },
   "file_extension": ".py",
   "mimetype": "text/x-python",
   "name": "python",
   "nbconvert_exporter": "python",
   "pygments_lexer": "ipython3",
   "version": "3.10.16"
  }
 },
 "nbformat": 4,
 "nbformat_minor": 4
}
