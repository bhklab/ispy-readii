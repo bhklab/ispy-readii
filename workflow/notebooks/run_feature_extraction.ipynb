{
 "cells": [
  {
   "cell_type": "markdown",
   "metadata": {},
   "source": [
    "# Before getting started\n",
    "\n",
    "Make sure pixi is up to date by running the following command in your terminal:\n",
    "\n",
    "```bash\n",
    "pixi self-update\n",
    "```"
   ]
  },
  {
   "cell_type": "markdown",
   "metadata": {},
   "source": [
    "# Start JupyterLab\n",
    "\n",
    "To get the Jupyter kernel to work, run the following command in the terminal in the ispy-readii directory:\n",
    "\n",
    "```bash\n",
    "pixi shell --manifest-path=./pixi.toml\n",
    "\n",
    "pixi run make_kernel\n",
    "```\n",
    "Then click on the Select Kernel button in the top right corner of the JupyterLab interface.\n",
    "\n",
    "Select Jupyter Kernel, refresh the list of kernels, and select the ispy-readii kernel."
   ]
  },
  {
   "cell_type": "markdown",
   "metadata": {},
   "source": [
    "# Imports"
   ]
  },
  {
   "cell_type": "code",
   "execution_count": 13,
   "metadata": {},
   "outputs": [],
   "source": [
    "from imgtools.io import read_dicom_series\n",
    "from imgtools.autopipeline import AutoPipeline\n",
    "import os\n",
    "import pandas as pd\n",
    "from readii.loaders import loadSegmentation\n",
    "from readii.image_processing import flattenImage\n",
    "from readii.feature_extraction import singleRadiomicFeatureExtraction"
   ]
  },
  {
   "cell_type": "markdown",
   "metadata": {},
   "source": [
    "# Set Dataset Name"
   ]
  },
  {
   "cell_type": "code",
   "execution_count": 2,
   "metadata": {},
   "outputs": [],
   "source": [
    "DATASET_NAME = 'ISPY2'"
   ]
  },
  {
   "cell_type": "markdown",
   "metadata": {},
   "source": [
    "# Run Med-Imagetools crawl\n",
    "\n",
    "This creates a file used by READII to associate the images with the corresponding segmentation files."
   ]
  },
  {
   "cell_type": "code",
   "execution_count": 4,
   "metadata": {},
   "outputs": [
    {
     "name": "stderr",
     "output_type": "stream",
     "text": [
      "100%|██████████| 1/1 [00:00<00:00, 50.44it/s]\n"
     ]
    }
   ],
   "source": [
    "# THESE SHOULD WORK AS IS NOW\n",
    "mit_input_dir = f\"../../rawdata/{DATASET_NAME}\"\n",
    "mit_output_dir = f\"../../procdata/{DATASET_NAME}/mit_output\"\n",
    "\n",
    "modalities = \"MR,SEG\"\n",
    "# LEAVE THIS ONE\n",
    "dry_run = True\n",
    "\n",
    "# Set up and run the pipeline\n",
    "pipeline = AutoPipeline(input_directory=mit_input_dir,\n",
    "                        output_directory=mit_output_dir,\n",
    "                        modalities=modalities,\n",
    "                        dry_run=dry_run,\n",
    "                        show_progress=False) \n",
    "\n",
    "pipeline.run()"
   ]
  },
  {
   "cell_type": "markdown",
   "metadata": {},
   "source": [
    "# File path setup\n",
    "\n",
    "This is an example with a CT scan and RTSTRUCT. Copy the below cell and replace with MRI data paths. Keep variable names the same."
   ]
  },
  {
   "cell_type": "code",
   "execution_count": 5,
   "metadata": {},
   "outputs": [],
   "source": [
    "# Path to the DIRECTORY that contains all the CT dcm files\n",
    "image_dir_path = \"../../rawdata/ISPY2/images/ISPY2-100899/10-26-2002-100899T0-ISPY2MRIT0-88595/51000.000000-ISPY2 VOLSER uni-lateral cropped SER-33995/\"\n",
    "\n",
    "# Path to the SEG FILE\n",
    "segmentation_file_path = \"../../rawdata/ISPY2/images/ISPY2-100899/10-26-2002-100899T0-ISPY2MRIT0-88595/51900.000000-ISPY2 VOLSER uni-lateral cropped Analysis Mask-78091/1-1.dcm\""
   ]
  },
  {
   "cell_type": "markdown",
   "metadata": {},
   "source": [
    "# Load in image and segmentation"
   ]
  },
  {
   "cell_type": "code",
   "execution_count": 12,
   "metadata": {},
   "outputs": [],
   "source": [
    "# Load the image (CT or MR)\n",
    "image = read_dicom_series(image_dir_path)\n",
    "\n",
    "# Load in the segmentation file (this is set up for RTSTRUCT)\n",
    "# This will return a dictionary of segmentation images, with the keys being the ROI names\n",
    "seg_image_dict = loadSegmentation(segmentation_file_path, modality = 'SEG')\n",
    "\n",
    "# Get the segmentation image for the ROI of interest\n",
    "seg_image = flattenImage(seg_image_dict[\"VOLSER Analysis Mask\"])"
   ]
  },
  {
   "cell_type": "markdown",
   "metadata": {},
   "source": [
    "# Confirm that loading working correctly\n",
    "\n",
    "The dimensions of the image and segmenation should match."
   ]
  },
  {
   "cell_type": "code",
   "execution_count": 14,
   "metadata": {},
   "outputs": [
    {
     "name": "stdout",
     "output_type": "stream",
     "text": [
      "Image dimensions:  (256, 256, 80)\n",
      "Segmentation dimensions:  (256, 256, 80)\n"
     ]
    }
   ],
   "source": [
    "print(\"Image dimensions: \", image.GetSize())\n",
    "print(\"Segmentation dimensions: \", seg_image.GetSize())"
   ]
  },
  {
   "cell_type": "markdown",
   "metadata": {},
   "source": [
    "## Extract Radiomic Features"
   ]
  },
  {
   "cell_type": "code",
   "execution_count": 16,
   "metadata": {},
   "outputs": [
    {
     "ename": "ValueError",
     "evalue": "Multiple label values present in this segmentation. Must all be the same.",
     "output_type": "error",
     "traceback": [
      "\u001b[0;31m---------------------------------------------------------------------------\u001b[0m",
      "\u001b[0;31mValueError\u001b[0m                                Traceback (most recent call last)",
      "Cell \u001b[0;32mIn[16], line 5\u001b[0m\n\u001b[1;32m      2\u001b[0m pyradiomics_param_file_path \u001b[38;5;241m=\u001b[39m \u001b[38;5;124m\"\u001b[39m\u001b[38;5;124m../config/default_pyradiomics.yaml\u001b[39m\u001b[38;5;124m\"\u001b[39m\n\u001b[1;32m      4\u001b[0m \u001b[38;5;66;03m# Run PyRadiomics feature extraction with REAII function\u001b[39;00m\n\u001b[0;32m----> 5\u001b[0m radiomic_features_dict \u001b[38;5;241m=\u001b[39m \u001b[43msingleRadiomicFeatureExtraction\u001b[49m\u001b[43m(\u001b[49m\u001b[43mimage\u001b[49m\u001b[43m,\u001b[49m\u001b[43m \u001b[49m\u001b[43mseg_image\u001b[49m\u001b[43m,\u001b[49m\u001b[43m \u001b[49m\u001b[43mpyradiomics_param_file_path\u001b[49m\u001b[43m,\u001b[49m\u001b[43m \u001b[49m\u001b[43mrandomSeed\u001b[49m\u001b[38;5;241;43m=\u001b[39;49m\u001b[38;5;241;43m10\u001b[39;49m\u001b[43m)\u001b[49m\n\u001b[1;32m      7\u001b[0m \u001b[38;5;66;03m# Convert to dataframe\u001b[39;00m\n\u001b[1;32m      8\u001b[0m rad_features_df \u001b[38;5;241m=\u001b[39m pd\u001b[38;5;241m.\u001b[39mDataFrame\u001b[38;5;241m.\u001b[39mfrom_dict(radiomic_features_dict, orient\u001b[38;5;241m=\u001b[39m\u001b[38;5;124m\"\u001b[39m\u001b[38;5;124mindex\u001b[39m\u001b[38;5;124m\"\u001b[39m)\u001b[38;5;241m.\u001b[39mtranspose()\n",
      "File \u001b[0;32m~/Documents/Radiogenomics/I-SPY2/ispy-readii/.pixi/envs/default/lib/python3.12/site-packages/readii/feature_extraction.py:120\u001b[0m, in \u001b[0;36msingleRadiomicFeatureExtraction\u001b[0;34m(ctImage, roiImage, pyradiomicsParamFilePath, negativeControl, randomSeed)\u001b[0m\n\u001b[1;32m    117\u001b[0m alignedROIImage \u001b[38;5;241m=\u001b[39m alignImages(ctImage, roiImage)\n\u001b[1;32m    119\u001b[0m \u001b[38;5;66;03m# Get pixel value for the segmentation\u001b[39;00m\n\u001b[0;32m--> 120\u001b[0m segmentationLabel: \u001b[38;5;28mint\u001b[39m \u001b[38;5;241m=\u001b[39m \u001b[43mgetROIVoxelLabel\u001b[49m\u001b[43m(\u001b[49m\u001b[43malignedROIImage\u001b[49m\u001b[43m)\u001b[49m\n\u001b[1;32m    122\u001b[0m \u001b[38;5;66;03m# Check that CT and segmentation correspond, segmentationLabel is present, and dimensions match\u001b[39;00m\n\u001b[1;32m    123\u001b[0m segBoundingBox, correctedROIImage \u001b[38;5;241m=\u001b[39m imageoperations\u001b[38;5;241m.\u001b[39mcheckMask(\n\u001b[1;32m    124\u001b[0m \tctImage, alignedROIImage, label\u001b[38;5;241m=\u001b[39msegmentationLabel\n\u001b[1;32m    125\u001b[0m )\n",
      "File \u001b[0;32m~/Documents/Radiogenomics/I-SPY2/ispy-readii/.pixi/envs/default/lib/python3.12/site-packages/readii/image_processing.py:323\u001b[0m, in \u001b[0;36mgetROIVoxelLabel\u001b[0;34m(segImage)\u001b[0m\n\u001b[1;32m    321\u001b[0m     \u001b[38;5;28;01mreturn\u001b[39;00m \u001b[38;5;28mint\u001b[39m(labelValue)\n\u001b[1;32m    322\u001b[0m \u001b[38;5;28;01melse\u001b[39;00m:\n\u001b[0;32m--> 323\u001b[0m     \u001b[38;5;28;01mraise\u001b[39;00m \u001b[38;5;167;01mValueError\u001b[39;00m(\n\u001b[1;32m    324\u001b[0m         \u001b[38;5;124m\"\u001b[39m\u001b[38;5;124mMultiple label values present in this segmentation. Must all be the same.\u001b[39m\u001b[38;5;124m\"\u001b[39m\n\u001b[1;32m    325\u001b[0m     )\n",
      "\u001b[0;31mValueError\u001b[0m: Multiple label values present in this segmentation. Must all be the same."
     ]
    }
   ],
   "source": [
    "# Pick which config settings to use for PyRadiomics feature extraction\n",
    "pyradiomics_param_file_path = \"../config/default_pyradiomics.yaml\"\n",
    "\n",
    "# Run PyRadiomics feature extraction with REAII function\n",
    "radiomic_features_dict = singleRadiomicFeatureExtraction(image, seg_image, pyradiomics_param_file_path, randomSeed=10)\n",
    "\n",
    "# Convert to dataframe\n",
    "rad_features_df = pd.DataFrame.from_dict(radiomic_features_dict, orient=\"index\").transpose()\n"
   ]
  },
  {
   "cell_type": "markdown",
   "metadata": {},
   "source": [
    "# Save out the results of the feature extraction"
   ]
  },
  {
   "cell_type": "code",
   "execution_count": 9,
   "metadata": {},
   "outputs": [],
   "source": [
    "save_radiomics_path = \"results/4D-Lung/readii_radiomic_features.csv\"\n",
    "\n",
    "if not os.path.exists(os.path.dirname(save_radiomics_path)):\n",
    "    os.makedirs(os.path.dirname(save_radiomics_path))\n",
    "\n",
    "rad_features_df.to_csv(save_radiomics_path, index=False)"
   ]
  }
 ],
 "metadata": {
  "kernelspec": {
   "display_name": "ispy-readii",
   "language": "python",
   "name": "ispy_readii"
  },
  "language_info": {
   "codemirror_mode": {
    "name": "ipython",
    "version": 3
   },
   "file_extension": ".py",
   "mimetype": "text/x-python",
   "name": "python",
   "nbconvert_exporter": "python",
   "pygments_lexer": "ipython3",
   "version": "3.12.8"
  }
 },
 "nbformat": 4,
 "nbformat_minor": 4
}
