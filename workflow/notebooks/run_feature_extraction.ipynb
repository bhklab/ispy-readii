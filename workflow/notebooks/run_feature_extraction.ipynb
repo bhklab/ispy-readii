{
 "cells": [
  {
   "cell_type": "markdown",
   "metadata": {},
   "source": [
    "# Before getting started\n",
    "\n",
    "Make sure pixi is up to date by running the following command in your terminal:\n",
    "\n",
    "```bash\n",
    "pixi self-update\n",
    "```"
   ]
  },
  {
   "cell_type": "markdown",
   "metadata": {},
   "source": [
    "# Start JupyterLab\n",
    "\n",
    "To get the Jupyter kernel to work, \n",
    "\n",
    "1. Run the following commands in the terminal in the ispy-readii directory:\n",
    "    ```bash\n",
    "    pixi shell --manifest-path=./pixi.toml\n",
    "\n",
    "    pixi install\n",
    "\n",
    "    pixi run make_kernel\n",
    "    ```\n",
    "2. In the `Select Kernel` menu at the top right of the notebook, select `Jupyter Kernel` as the source. \n",
    "\n",
    "3. Refresh the options and one called `ispy-readii` should appear. Select this option."
   ]
  },
  {
   "cell_type": "markdown",
   "metadata": {},
   "source": [
    "# Imports"
   ]
  },
  {
   "cell_type": "code",
   "execution_count": 36,
   "metadata": {},
   "outputs": [],
   "source": [
    "# General Imports\n",
    "import os\n",
    "import pandas as pd\n",
    "import subprocess\n",
    "import numpy as np\n",
    "import matplotlib.pyplot as plt\n",
    "\n",
    "# Path handling\n",
    "from pathlib import Path\n",
    "\n",
    "# Image Processing Libraries\n",
    "import SimpleITK as sitk\n",
    "from imgtools.io import read_dicom_series\n",
    "from imgtools.autopipeline import AutoPipeline\n",
    "from readii.loaders import loadSegmentation\n",
    "from readii.image_processing import flattenImage\n",
    "from readii.feature_extraction import singleRadiomicFeatureExtraction"
   ]
  },
  {
   "cell_type": "markdown",
   "metadata": {},
   "source": [
    "## Set  Dataset Name "
   ]
  },
  {
   "cell_type": "code",
   "execution_count": 53,
   "metadata": {},
   "outputs": [],
   "source": [
    "DATASET_NAME = \"ISPY2\""
   ]
  },
  {
   "cell_type": "markdown",
   "metadata": {},
   "source": [
    "# ~~Run Med-Imagetools crawl~~\n",
    "\n",
    "~~This creates a file used by READII to associate the images with the corresponding segmentation files.~~\n",
    "\n",
    "~~This doesn't work for ISPY2, will be using code from `workflow/scripts/python/solid-BET-FSL.py` lines 36-52 here~~\n",
    "\n"
   ]
  },
  {
   "cell_type": "code",
   "execution_count": null,
   "metadata": {},
   "outputs": [],
   "source": [
    "# mit_input_dir = f\"../../rawdata/{DATASET_NAME}\"\n",
    "# mit_output_dir = f\"../../procdata/{DATASET_NAME}/mit_output\"\n",
    "\n",
    "# modalities = \"MR,SEG\"\n",
    "# # LEAVE THIS ONE\n",
    "# dry_run = False\n",
    "\n",
    "# # Set up and run the pipeline\n",
    "# pipeline = AutoPipeline(input_directory=mit_input_dir,\n",
    "#                         output_directory=mit_output_dir,\n",
    "#                         modalities=modalities,\n",
    "#                         dry_run=dry_run,\n",
    "#                         show_progress=False) \n",
    "\n",
    "# pipeline.run()"
   ]
  },
  {
   "cell_type": "markdown",
   "metadata": {},
   "source": [
    "# Convert MRI to NIFTI\n",
    "~~`workflow/scripts/python/solid-BET-FSL.py` lines 36-52 here~~"
   ]
  },
  {
   "cell_type": "code",
   "execution_count": null,
   "metadata": {},
   "outputs": [
    {
     "name": "stdout",
     "output_type": "stream",
     "text": [
      "✅ DICOM converted to NIfTI: ..\\..\\procdata\\ISPY2\\converted_niftis\\ISPY2-100899\\MR\\ISPY2-100899_raw.nii.gz\n"
     ]
    }
   ],
   "source": [
    "# Define raw DICOM directory and output NIfTI path\n",
    "MR_image_dir_path = Path(\"../../rawdata/{DATASET_NAME}/ISPY2-100899/10-26-2002-100899T0-ISPY2MRIT0-88595/51800.000000-ISPY2 VOLSER uni-lateral cropped original DCE-30523/\")\n",
    "nifti_output_path = Path(f\"../../procdata/{DATASET_NAME}/ISPY2-100899/converted_niftis/ISPY2-100899/MR/ISPY2-100899_raw.nii.gz\")\n",
    "\n",
    "# Read all DICOM files as a 3D volume\n",
    "reader = sitk.ImageSeriesReader()\n",
    "dicom_series = reader.GetGDCMSeriesFileNames(str(MR_image_dir_path))\n",
    "reader.SetFileNames(dicom_series)\n",
    "mri_image = reader.Execute()\n",
    "\n",
    "# Save the raw MRI as NIfTI\n",
    "sitk.WriteImage(mri_image, str(nifti_output_path))\n",
    "print(f\" DICOM converted to NIfTI: {nifti_output_path}\")"
   ]
  },
  {
   "cell_type": "markdown",
   "metadata": {},
   "source": [
    "# Run Bias Correction\n",
    "\n",
    "The `install_fsl.sh` lines 81-94 here. script installs `fsl-base` and `fslpy`, but there is an error with `fast`, which is used for bias correction. \n",
    "Therefore, an alternative approach is used instead of FSL. Here, `ANTs N4BiasFieldCorrection` is applied. \n"
   ]
  },
  {
   "cell_type": "code",
   "execution_count": 11,
   "metadata": {},
   "outputs": [
    {
     "name": "stdout",
     "output_type": "stream",
     "text": [
      "Loading NIfTI file...\n",
      "Applying N4 Bias Field Correction...\n",
      " Bias correction applied. Output saved at: ..\\..\\procdata\\ISPY2\\bias_corrected_MR\\ISPY2-100899\\processed_image.nii.gz\n"
     ]
    }
   ],
   "source": [
    "# NIfTI file (already converted from DICOM)\n",
    "nifti_output_path = Path(\"../../procdata/ISPY2/converted_niftis/ISPY2-100899/MR/ISPY2-100899_raw.nii.gz\")\n",
    "\n",
    "# Define the output path for the bias-corrected NIfTI file\n",
    "bias_corr_path = Path(\"../../procdata/ISPY2/bias_corrected_MR/ISPY2-100899/processed_image.nii.gz\")\n",
    "\n",
    "# Load the NIfTI image\n",
    "print(\"Loading NIfTI file...\")\n",
    "input_image = sitk.ReadImage(str(nifti_output_path))\n",
    "\n",
    "# Convert image to float32 (avoids intensity scaling issues)\n",
    "input_image = sitk.Cast(input_image, sitk.sitkFloat32)\n",
    "\n",
    "# Apply N4 Bias Field Correction\n",
    "print(\"Applying N4 Bias Field Correction...\")\n",
    "corrector = sitk.N4BiasFieldCorrectionImageFilter()\n",
    "output_image = corrector.Execute(input_image)\n",
    "\n",
    "# Save the bias-corrected image as NIfTI\n",
    "sitk.WriteImage(output_image, str(bias_corr_path))\n",
    "print(f\" Bias correction applied. Output saved at: {bias_corr_path}\")"
   ]
  },
  {
   "cell_type": "code",
   "execution_count": null,
   "metadata": {},
   "outputs": [],
   "source": [
    "# Load NIfTI images\n",
    "input_image = sitk.ReadImage(nifti_output_path)\n",
    "corrected_image = sitk.ReadImage(bias_corr_path)\n",
    "\n",
    "# Convert to NumPy arrays\n",
    "original_array = sitk.GetArrayFromImage(input_image)\n",
    "corrected_array = sitk.GetArrayFromImage(corrected_image)\n",
    "\n",
    "# Show only the first 20 slices (max is 640)\n",
    "num_slices = min(20, original_array.shape[0])\n",
    "\n",
    "# Plot slices\n",
    "for slice_idx in range(num_slices):\n",
    "    fig, ax = plt.subplots(1, 2, figsize=(10, 5))\n",
    "    \n",
    "    ax[0].imshow(original_array[slice_idx], cmap=\"gray\")\n",
    "    ax[0].set_title(f\"Original - Slice {slice_idx}\")\n",
    "\n",
    "    ax[1].imshow(corrected_array[slice_idx], cmap=\"gray\")\n",
    "    ax[1].set_title(f\"Corrected - Slice {slice_idx}\")\n",
    "\n",
    "    plt.show()"
   ]
  },
  {
   "cell_type": "markdown",
   "metadata": {},
   "source": [
    "# Load in image and segmentation"
   ]
  },
  {
   "cell_type": "code",
   "execution_count": null,
   "metadata": {},
   "outputs": [
    {
     "name": "stdout",
     "output_type": "stream",
     "text": [
      "Image size: (256, 256, 80)\n",
      "Image spacing: (1.0, 1.0, 1.0)\n",
      "Image origin: (0.0, 0.0, 0.0)\n",
      "Image direction: (1.0, 0.0, 0.0, 0.0, 1.0, 0.0, 0.0, 0.0, 1.0)\n",
      "Image metadata keys: ()\n"
     ]
    }
   ],
   "source": [
    "# Path to the SEG file\n",
    "# segmentation_file_path = Path(\"../../rawdata/{DATASET_NAME}/ISPY2-100899/10-26-2002-100899T0-ISPY2MRIT0-88595/51900.000000-ISPY2 VOLSER uni-lateral cropped Analysis Mask-78091/1-1.dcm\")\n",
    "segmentation_file_path = Path(f\"../../rawdata/{DATASET_NAME}/ISPY2-100899/10-26-2002-100899T0-ISPY2MRIT0-88595/51900.000000-ISPY2 VOLSER uni-lateral cropped Analysis Mask-78091/1-1.dcm\")\n",
    "# Load the segmentation file (for SEG format)\n",
    "# This returns a dictionary of segmentation images, with ROI names as keys and image objects as values\n",
    "seg_image_dict = loadSegmentation(segmentation_file_path, modality='SEG')\n",
    "\n",
    "# Get the segmentation image for the specific ROI of interest\n",
    "# Flatten the image if it has extra dimensions, making it 3D\n",
    "seg_image = flattenImage(seg_image_dict[\"VOLSER Analysis Mask\"])\n",
    "\n",
    "# TODO: Check if the output image size matches the segmentation image size\n",
    "# Use the GETSIZE method for seg_image to verify this\n",
    "#seg_image_size = seg_image.GETSIZE()\n",
    "print(\"Image size:\", seg_image.GetSize())\n",
    "\n",
    "# Print available metadata keys\n",
    "# metadata_keys = seg_image.GetMetaDataKeys()\n",
    "# print(\"Image metadata keys:\", metadata_keys)\n",
    "\n",
    "# If you want to print actual metadata for a specific key\n",
    "for key in metadata_keys:\n",
    "    print(f\"{key}: {seg_image.GetMetaData(key)}\")"
   ]
  },
  {
   "cell_type": "markdown",
   "metadata": {},
   "source": [
    "# MRI Cropping and SEG binarization"
   ]
  },
  {
   "cell_type": "code",
   "execution_count": null,
   "metadata": {},
   "outputs": [],
   "source": [
    "# SEG binarization\n",
    "# with the loaded nifti SEG file:\n",
    "# convert it to a numpy array\n",
    "# make a copy of the array\n",
    "# in the copy, set values in original >= 1 to 0, values in original == 0 to 1\n",
    "# now the tumor will be 1, and everything else will be 0\n",
    "# print a slice of the copy to confirm"
   ]
  },
  {
   "cell_type": "code",
   "execution_count": null,
   "metadata": {},
   "outputs": [],
   "source": [
    "# MRI Cropping\n",
    "# Get number of slices (z-axis) from the SEG\n",
    "# Crop the MRI to that number of slices\n",
    "# Need to figure out which end of the slices of the image to start from for cropping\n",
    "\n",
    "# Confirm that the images have the same size \n",
    "# Try saving them as niftis and view them with NiiVue extension in VS Code"
   ]
  },
  {
   "cell_type": "markdown",
   "metadata": {},
   "source": [
    "## Extract Radiomic Features"
   ]
  },
  {
   "cell_type": "code",
   "execution_count": null,
   "metadata": {},
   "outputs": [],
   "source": [
    "# Pick which config settings to use for PyRadiomics feature extraction\n",
    "pyradiomics_param_file_path = \"../config/default_pyradiomics.yaml\"\n",
    "\n",
    "# Run PyRadiomics feature extraction with REAII function\n",
    "radiomic_features_dict = singleRadiomicFeatureExtraction(output_image, seg_image, pyradiomics_param_file_path, randomSeed=10)\n",
    "\n",
    "# Convert to dataframe\n",
    "rad_features_df = pd.DataFrame.from_dict(radiomic_features_dict, orient=\"index\").transpose()\n"
   ]
  },
  {
   "cell_type": "markdown",
   "metadata": {},
   "source": [
    "# Save out the results of the feature extraction"
   ]
  },
  {
   "cell_type": "code",
   "execution_count": null,
   "metadata": {},
   "outputs": [],
   "source": [
    "save_radiomics_path = Path(\"results/4D-Lung/readii_radiomic_features.csv\")\n",
    "save_radiomics_path.parent.mkdir(parents=True, exist_ok=True)\n",
    "\n",
    "rad_features_df.to_csv(save_radiomics_path, index=False)"
   ]
  }
 ],
 "metadata": {
  "kernelspec": {
   "display_name": "ispy-readii",
   "language": "python",
   "name": "ispy_readii"
  },
  "language_info": {
   "codemirror_mode": {
    "name": "ipython",
    "version": 3
   },
   "file_extension": ".py",
   "mimetype": "text/x-python",
   "name": "python",
   "nbconvert_exporter": "python",
   "pygments_lexer": "ipython3",
   "version": "3.12.8"
  }
 },
 "nbformat": 4,
 "nbformat_minor": 4
}
