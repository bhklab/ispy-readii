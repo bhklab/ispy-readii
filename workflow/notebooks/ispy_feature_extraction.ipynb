{
 "cells": [
  {
   "cell_type": "markdown",
   "metadata": {},
   "source": [
    "# Start JupyterLab\n",
    "\n",
    "To get the Jupyter kernel to work, run the following command in the terminal:\n",
    "\n",
    "```bash\n",
    "pixi run jupyter lab --no-browser\n",
    "```\n",
    "Then find the portion that reads:\n",
    "\n",
    "```bash\n",
    "Or copy and paste one of these URLs:\n",
    "    http://localhost:8888/lab\n",
    "    http://127.0.0.1:8888/lab\n",
    "```\n",
    "\n",
    "Copy and paste the URL into the spot that shows up at \"Existing Jupyter Server\" menu under \"Select Kernel\" button at the top right."
   ]
  },
  {
   "cell_type": "markdown",
   "metadata": {},
   "source": [
    "# Imports"
   ]
  },
  {
   "cell_type": "code",
   "execution_count": 69,
   "metadata": {},
   "outputs": [],
   "source": [
    "from imgtools.io import read_dicom_series\n",
    "from imgtools.autopipeline import AutoPipeline\n",
    "import os\n",
    "import sys\n",
    "import pandas as pd\n",
    "from readii.loaders import loadSegmentation\n",
    "from readii.feature_extraction import singleRadiomicFeatureExtraction\n",
    "\n",
    "# Define project root \n",
    "project_root = \"C:/Users/azita/OneDrive/Documents/BHK lab/ispy-readii\"\n",
    "\n",
    "# Add the project root to sys.path if not already there\n",
    "if project_root not in sys.path:\n",
    "    sys.path.append(project_root)\n",
    "\n",
    "from workflow.scripts.python.get_roi_names_with_count import getRTStructsRoiNames\n"
   ]
  },
  {
   "cell_type": "markdown",
   "metadata": {},
   "source": [
    "# File path setup\n",
    "\n",
    "This is an example with MRI data and RTSTRUCT"
   ]
  },
  {
   "cell_type": "code",
   "execution_count": 43,
   "metadata": {},
   "outputs": [],
   "source": [
    "# Path to the DIRECTORY that contains all the CT dcm files\n",
    "image_dir_path = os.path.join(project_root, \"rawdata/Breast/ISPY2-100899/MR\")\n",
    "# Path to the RTSTRUCT FILE\n",
    "\n",
    "rtstruct_file_path = os.path.join(project_root, \"rawdata/Breast/ISPY2-100899/SEG/1-1.dcm\")\n"
   ]
  },
  {
   "cell_type": "markdown",
   "metadata": {},
   "source": [
    "# Run Med-Imagetools crawl\n",
    "\n",
    "This creates a file used by READII to associate the images with the corresponding segmentation files."
   ]
  },
  {
   "cell_type": "code",
   "execution_count": 66,
   "metadata": {},
   "outputs": [
    {
     "name": "stdout",
     "output_type": "stream",
     "text": [
      "Loaded ROI names: dict_keys(['VOLSER Analysis Mask'])\n",
      "Segmentation mask dimensions: (256, 256, 80, 1)\n",
      "MRI image dimensions: (256, 256, 1)\n"
     ]
    }
   ],
   "source": [
    "# #Debugging \n",
    "# import SimpleITK as sitk\n",
    "# from readii.loaders import loadSegmentation\n",
    "# import os\n",
    "\n",
    "# # Load segmentation file\n",
    "# seg_image_dict = loadSegmentation(rtstruct_file_path, modality=\"SEG\", baseImageDirPath=image_dir_path)\n",
    "# print(\"Loaded ROI names:\", seg_image_dict.keys())\n",
    "\n",
    "# # SEG dimensions\n",
    "# seg_mask = seg_image_dict['VOLSER Analysis Mask']\n",
    "# print(\"Segmentation mask dimensions:\", seg_mask.GetSize())\n",
    "\n",
    "# # MRI image (first DICOM)\n",
    "# mri_files = [f for f in os.listdir(image_dir_path) if f.endswith('.dcm')]\n",
    "# image = sitk.ReadImage(os.path.join(image_dir_path, mri_files[0])) if mri_files else None\n",
    "# print(\"MRI image dimensions:\", image.GetSize() if image else \"No DICOM files found\")\n",
    "\n",
    "# # TODO: segmentation mask has 80 slices, whereas the MRI image has only 51 slices?"
   ]
  },
  {
   "cell_type": "code",
   "execution_count": 71,
   "metadata": {},
   "outputs": [
    {
     "name": "stdout",
     "output_type": "stream",
     "text": [
      "Input directory: C:/Users/azita/OneDrive/Documents/BHK lab/ispy-readii\\rawdata\\Breast\n",
      "Output directory: C:/Users/azita/OneDrive/Documents/BHK lab/ispy-readii\\procdata\\Breast\\mit_output\n"
     ]
    },
    {
     "name": "stderr",
     "output_type": "stream",
     "text": [
      "100%|██████████| 1/1 [00:00<00:00, 1000.07it/s]\n"
     ]
    }
   ],
   "source": [
    "# Define input and output directories\n",
    "mit_input_dir = os.path.join(project_root, \"rawdata\", \"Breast\")\n",
    "mit_output_dir = os.path.join(project_root, \"procdata\", \"Breast\", \"mit_output\")\n",
    "\n",
    "# Debug input and output directories\n",
    "print(\"Input directory:\", mit_input_dir)\n",
    "print(\"Output directory:\", mit_output_dir)\n",
    "\n",
    "# Set up pipeline\n",
    "modalities = \"MR,SEG\"\n",
    "dry_run = True\n",
    "\n",
    "\n",
    "# Initialize pipeline\n",
    "pipeline = AutoPipeline(\n",
    "    input_directory=mit_input_dir,\n",
    "    output_directory=mit_output_dir,\n",
    "    modalities=modalities,\n",
    "    dry_run=dry_run,\n",
    "    show_progress=True,\n",
    "    verbose=True,\n",
    "    update=True\n",
    "    )\n",
    "\n",
    "\n",
    "pipeline.run()\n"
   ]
  },
  {
   "cell_type": "markdown",
   "metadata": {},
   "source": [
    "# List ROI names in the RTSTRUCT file\n",
    "\n",
    "To load in the RTSTRUCT and get just the ROI we want, we need to make a dictionary with all the possible variations of the ROI names.\n",
    "\n",
    "E.g. for a GTV ROI, we might have: GTV, GTVp, GTV1, GTP-p, etc.\n",
    "\n",
    "Using this will rename any ROI that matches one of these names to GTV."
   ]
  },
  {
   "cell_type": "code",
   "execution_count": 72,
   "metadata": {},
   "outputs": [
    {
     "data": {
      "text/plain": [
       "{}"
      ]
     },
     "execution_count": 72,
     "metadata": {},
     "output_type": "execute_result"
    }
   ],
   "source": [
    "# List all the ROI names present in the RTSTRUCT \n",
    "#getRTStructsRoiNames(mit_input_dir)"
   ]
  },
  {
   "cell_type": "code",
   "execution_count": null,
   "metadata": {},
   "outputs": [],
   "source": [
    "# Select the name you want to give to your ROIs (e.g. GTV or tumor) and list any ROI names from previous cell output you want to include\n",
    "# roi_name = \"GTV\"\n",
    "# roi_name_options = {roi_name: [\"Tumor_c40\"]}"
   ]
  },
  {
   "cell_type": "markdown",
   "metadata": {},
   "source": [
    "# Load in image and segmentation"
   ]
  },
  {
   "cell_type": "code",
   "execution_count": null,
   "metadata": {},
   "outputs": [
    {
     "data": {
      "text/plain": [
       "<function dict.keys>"
      ]
     },
     "execution_count": 78,
     "metadata": {},
     "output_type": "execute_result"
    }
   ],
   "source": [
    "# Load the image (CT or MR)\n",
    "image = read_dicom_series(image_dir_path)\n",
    "\n",
    "# Load in the segmentation file (this is set up for RTSTRUCT)\n",
    "# This will return a dictionary of segmentation images, with the keys being the ROI names\n",
    "seg_image_dict = loadSegmentation(rtstruct_file_path, modality = 'SEG', \n",
    "                                  baseImageDirPath=image_dir_path)\n",
    "\n",
    "# Get the segmentation image for the ROI of interest\n",
    "seg_image = seg_image_dict['VOLSER Analysis Mask']\n",
    "\n"
   ]
  },
  {
   "cell_type": "markdown",
   "metadata": {},
   "source": [
    "# Confirm that loading working correctly\n",
    "\n",
    "The dimensions of the image and segmenation should match."
   ]
  },
  {
   "cell_type": "code",
   "execution_count": 79,
   "metadata": {},
   "outputs": [
    {
     "data": {
      "text/plain": [
       "array([ 0,  1,  2, 17, 32, 33, 34, 49], dtype=uint8)"
      ]
     },
     "execution_count": 79,
     "metadata": {},
     "output_type": "execute_result"
    }
   ],
   "source": [
    "arr_seg = sitk.GetArrayFromImage(seg_image)\n",
    "np.unique(arr_seg)\n",
    "# TODO: look at the the SEG from SLIcer --> multiple ressions, find tumor\n",
    "# Multiple label values present in this segmentation. Must all be the same."
   ]
  },
  {
   "cell_type": "code",
   "execution_count": 76,
   "metadata": {},
   "outputs": [
    {
     "ename": "ValueError",
     "evalue": "Multiple label values present in this segmentation. Must all be the same.",
     "output_type": "error",
     "traceback": [
      "\u001b[1;31m---------------------------------------------------------------------------\u001b[0m",
      "\u001b[1;31mValueError\u001b[0m                                Traceback (most recent call last)",
      "Cell \u001b[1;32mIn[76], line 5\u001b[0m\n\u001b[0;32m      2\u001b[0m pyradiomics_param_file_path \u001b[38;5;241m=\u001b[39m os\u001b[38;5;241m.\u001b[39mpath\u001b[38;5;241m.\u001b[39mjoin(project_root,\u001b[38;5;124m\"\u001b[39m\u001b[38;5;124mworkflow/config/default_pyradiomics.yaml\u001b[39m\u001b[38;5;124m\"\u001b[39m)\n\u001b[0;32m      4\u001b[0m \u001b[38;5;66;03m# Run PyRadiomics feature extraction with REAII function\u001b[39;00m\n\u001b[1;32m----> 5\u001b[0m radiomic_features_dict \u001b[38;5;241m=\u001b[39m \u001b[43msingleRadiomicFeatureExtraction\u001b[49m\u001b[43m(\u001b[49m\u001b[43mimage\u001b[49m\u001b[43m,\u001b[49m\u001b[43m \u001b[49m\u001b[43mseg_image\u001b[49m\u001b[43m,\u001b[49m\u001b[43m \u001b[49m\u001b[43mpyradiomics_param_file_path\u001b[49m\u001b[43m,\u001b[49m\u001b[43m \u001b[49m\u001b[43mrandomSeed\u001b[49m\u001b[38;5;241;43m=\u001b[39;49m\u001b[38;5;241;43m10\u001b[39;49m\u001b[43m)\u001b[49m\n\u001b[0;32m      7\u001b[0m \u001b[38;5;66;03m# Convert to dataframe\u001b[39;00m\n\u001b[0;32m      8\u001b[0m rad_features_df \u001b[38;5;241m=\u001b[39m pd\u001b[38;5;241m.\u001b[39mDataFrame\u001b[38;5;241m.\u001b[39mfrom_dict(radiomic_features_dict, orient\u001b[38;5;241m=\u001b[39m\u001b[38;5;124m\"\u001b[39m\u001b[38;5;124mindex\u001b[39m\u001b[38;5;124m\"\u001b[39m)\u001b[38;5;241m.\u001b[39mtranspose()\n",
      "File \u001b[1;32mc:\\Users\\azita\\anaconda3\\envs\\readii_env\\lib\\site-packages\\readii\\feature_extraction.py:120\u001b[0m, in \u001b[0;36msingleRadiomicFeatureExtraction\u001b[1;34m(ctImage, roiImage, pyradiomicsParamFilePath, negativeControl, randomSeed)\u001b[0m\n\u001b[0;32m    117\u001b[0m alignedROIImage \u001b[38;5;241m=\u001b[39m alignImages(ctImage, roiImage)\n\u001b[0;32m    119\u001b[0m \u001b[38;5;66;03m# Get pixel value for the segmentation\u001b[39;00m\n\u001b[1;32m--> 120\u001b[0m segmentationLabel: \u001b[38;5;28mint\u001b[39m \u001b[38;5;241m=\u001b[39m \u001b[43mgetROIVoxelLabel\u001b[49m\u001b[43m(\u001b[49m\u001b[43malignedROIImage\u001b[49m\u001b[43m)\u001b[49m\n\u001b[0;32m    122\u001b[0m \u001b[38;5;66;03m# Check that CT and segmentation correspond, segmentationLabel is present, and dimensions match\u001b[39;00m\n\u001b[0;32m    123\u001b[0m segBoundingBox, correctedROIImage \u001b[38;5;241m=\u001b[39m imageoperations\u001b[38;5;241m.\u001b[39mcheckMask(\n\u001b[0;32m    124\u001b[0m \tctImage, alignedROIImage, label\u001b[38;5;241m=\u001b[39msegmentationLabel\n\u001b[0;32m    125\u001b[0m )\n",
      "File \u001b[1;32mc:\\Users\\azita\\anaconda3\\envs\\readii_env\\lib\\site-packages\\readii\\image_processing.py:323\u001b[0m, in \u001b[0;36mgetROIVoxelLabel\u001b[1;34m(segImage)\u001b[0m\n\u001b[0;32m    321\u001b[0m     \u001b[38;5;28;01mreturn\u001b[39;00m \u001b[38;5;28mint\u001b[39m(labelValue)\n\u001b[0;32m    322\u001b[0m \u001b[38;5;28;01melse\u001b[39;00m:\n\u001b[1;32m--> 323\u001b[0m     \u001b[38;5;28;01mraise\u001b[39;00m \u001b[38;5;167;01mValueError\u001b[39;00m(\n\u001b[0;32m    324\u001b[0m         \u001b[38;5;124m\"\u001b[39m\u001b[38;5;124mMultiple label values present in this segmentation. Must all be the same.\u001b[39m\u001b[38;5;124m\"\u001b[39m\n\u001b[0;32m    325\u001b[0m     )\n",
      "\u001b[1;31mValueError\u001b[0m: Multiple label values present in this segmentation. Must all be the same."
     ]
    }
   ],
   "source": [
    "# Pick which config settings to use for PyRadiomics feature extraction\n",
    "pyradiomics_param_file_path = os.path.join(project_root,\"workflow/config/default_pyradiomics.yaml\")\n",
    "\n",
    "# Run PyRadiomics feature extraction with REAII function\n",
    "radiomic_features_dict = singleRadiomicFeatureExtraction(image, seg_image, pyradiomics_param_file_path, randomSeed=10)\n",
    "\n",
    "# Convert to dataframe\n",
    "rad_features_df = pd.DataFrame.from_dict(radiomic_features_dict, orient=\"index\").transpose()"
   ]
  },
  {
   "cell_type": "markdown",
   "metadata": {},
   "source": [
    "# Save out the results of the feature extraction"
   ]
  },
  {
   "cell_type": "code",
   "execution_count": null,
   "metadata": {},
   "outputs": [],
   "source": [
    "save_radiomics_path = os.path.join(project_root, \"results/4D-Lung/readii_radiomic_features.csv\")\n",
    "\n",
    "if not os.path.exists(os.path.dirname(save_radiomics_path)):\n",
    "    os.makedirs(os.path.dirname(save_radiomics_path))\n",
    "\n",
    "rad_features_df.to_csv(save_radiomics_path, index=False)"
   ]
  }
 ],
 "metadata": {
  "kernelspec": {
   "display_name": "readii_env",
   "language": "python",
   "name": "python3"
  },
  "language_info": {
   "codemirror_mode": {
    "name": "ipython",
    "version": 3
   },
   "file_extension": ".py",
   "mimetype": "text/x-python",
   "name": "python",
   "nbconvert_exporter": "python",
   "pygments_lexer": "ipython3",
   "version": "3.10.16"
  }
 },
 "nbformat": 4,
 "nbformat_minor": 2
}
